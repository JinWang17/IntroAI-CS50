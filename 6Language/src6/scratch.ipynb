{
 "cells": [
  {
   "cell_type": "code",
   "execution_count": 1,
   "id": "amazing-peace",
   "metadata": {},
   "outputs": [
    {
     "name": "stdout",
     "output_type": "stream",
     "text": [
      "C:\\Users\\wangj337\\Google Drive\\Courses\\IntroAI-CS50\\6Language\\src6\n"
     ]
    }
   ],
   "source": [
    "%cd C:/Users/wangj337/Google Drive/Courses/IntroAI-CS50/6Language/src6/"
   ]
  },
  {
   "cell_type": "code",
   "execution_count": 11,
   "id": "italic-tourist",
   "metadata": {
    "tags": []
   },
   "outputs": [
    {
     "name": "stdout",
     "output_type": "stream",
     "text": [
      "C:\\Users\\wangj337\\Google Drive\\Courses\\IntroAI-CS50\\6Language\\src6\\ngrams\n",
      "Loading data...\n",
      "871: ('said',)\n",
      "724: ('holmes',)\n",
      "707: ('one',)\n",
      "698: ('upon',)\n",
      "644: (\"'s\",)\n",
      "535: ('man',)\n",
      "513: ('could',)\n",
      "507: ('would',)\n",
      "389: ('little',)\n",
      "389: ('see',)\n",
      "165: ('said', 'holmes')\n",
      "120: ('sherlock', 'holmes')\n",
      "93: ('mr.', 'holmes')\n",
      "56: ('could', 'see')\n",
      "40: ('baker', 'street')\n",
      "38: ('st.', 'simon')\n",
      "36: ('watson', 'said')\n",
      "32: (\"n't\", 'know')\n",
      "31: ('let', 'us')\n",
      "29: ('man', \"'s\")\n",
      "28: ('lord', 'st.', 'simon')\n",
      "21: ('mr.', 'sherlock', 'holmes')\n",
      "15: ('mr.', 'holmes', 'said')\n",
      "15: ('neville', 'st.', 'clair')\n",
      "10: ('said', 'sherlock', 'holmes')\n",
      "9: ('king', \"'s\", 'pyland')\n",
      "9: ('mr.', 'neville', 'st.')\n",
      "9: ('mrs.', 'st.', 'clair')\n",
      "7: ('said', 'holmes', 'smiling')\n",
      "7: ('watson', 'said', 'holmes')\n",
      "1: ('adventure', 'noble', 'bachelor', 'lord', 'st.', 'simon', 'marriage', 'curious', 'termination', 'long')\n",
      "1: ('noble', 'bachelor', 'lord', 'st.', 'simon', 'marriage', 'curious', 'termination', 'long', 'ceased')\n",
      "1: ('bachelor', 'lord', 'st.', 'simon', 'marriage', 'curious', 'termination', 'long', 'ceased', 'subject')\n",
      "1: ('lord', 'st.', 'simon', 'marriage', 'curious', 'termination', 'long', 'ceased', 'subject', 'interest')\n",
      "1: ('st.', 'simon', 'marriage', 'curious', 'termination', 'long', 'ceased', 'subject', 'interest', 'exalted')\n",
      "1: ('simon', 'marriage', 'curious', 'termination', 'long', 'ceased', 'subject', 'interest', 'exalted', 'circles')\n",
      "1: ('marriage', 'curious', 'termination', 'long', 'ceased', 'subject', 'interest', 'exalted', 'circles', 'unfortunate')\n",
      "1: ('curious', 'termination', 'long', 'ceased', 'subject', 'interest', 'exalted', 'circles', 'unfortunate', 'bridegroom')\n",
      "1: ('termination', 'long', 'ceased', 'subject', 'interest', 'exalted', 'circles', 'unfortunate', 'bridegroom', 'moves')\n",
      "1: ('long', 'ceased', 'subject', 'interest', 'exalted', 'circles', 'unfortunate', 'bridegroom', 'moves', 'fresh')\n"
     ]
    }
   ],
   "source": [
    "# ngrams\n",
    "%cd C:/Users/wangj337/Google Drive/Courses/IntroAI-CS50/6Language/src6/ngrams\n",
    "%run ngrams.py \"1,2,3,10\" holmes"
   ]
  },
  {
   "cell_type": "code",
   "execution_count": null,
   "id": "extraordinary-wheat",
   "metadata": {},
   "outputs": [],
   "source": [
    "# tfidf\n",
    "%cd C:/Users/wangj337/Google Drive/Courses/IntroAI-CS50/6Language/src6/tfidf\n",
    "%run ngrams.py \"1,2,3,10\" holmes\n"
   ]
  },
  {
   "cell_type": "code",
   "execution_count": null,
   "id": "sapphire-petite",
   "metadata": {},
   "outputs": [],
   "source": [
    "# vectors"
   ]
  },
  {
   "cell_type": "code",
   "execution_count": null,
   "id": "generic-magazine",
   "metadata": {},
   "outputs": [],
   "source": [
    "# wordnet"
   ]
  },
  {
   "cell_type": "code",
   "execution_count": null,
   "id": "grave-benchmark",
   "metadata": {},
   "outputs": [],
   "source": [
    "# cfg"
   ]
  },
  {
   "cell_type": "code",
   "execution_count": null,
   "id": "illegal-gothic",
   "metadata": {},
   "outputs": [],
   "source": [
    "#markov"
   ]
  },
  {
   "cell_type": "code",
   "execution_count": null,
   "id": "comparable-binding",
   "metadata": {},
   "outputs": [],
   "source": [
    "# templates"
   ]
  },
  {
   "cell_type": "code",
   "execution_count": null,
   "id": "balanced-onion",
   "metadata": {},
   "outputs": [],
   "source": [
    "# sentiment"
   ]
  }
 ],
 "metadata": {
  "kernelspec": {
   "display_name": "Python 3",
   "language": "python",
   "name": "python3"
  },
  "language_info": {
   "codemirror_mode": {
    "name": "ipython",
    "version": 3
   },
   "file_extension": ".py",
   "mimetype": "text/x-python",
   "name": "python",
   "nbconvert_exporter": "python",
   "pygments_lexer": "ipython3",
   "version": "3.9.2"
  }
 },
 "nbformat": 4,
 "nbformat_minor": 5
}
