{
 "cells": [
  {
   "cell_type": "code",
   "execution_count": 13,
   "id": "innovative-jonathan",
   "metadata": {},
   "outputs": [],
   "source": [
    "# %load \"C:/Users/wangj337/Google Drive/Courses/IntroAI-CS50/2Uncertainty/heredity/heredity.py\"\n",
    "import csv\n",
    "import itertools\n",
    "import sys\n",
    "\n",
    "PROBS = {\n",
    "\n",
    "    # Unconditional probabilities for having gene\n",
    "    \"gene\": {\n",
    "        2: 0.01,\n",
    "        1: 0.03,\n",
    "        0: 0.96\n",
    "    },\n",
    "\n",
    "    \"trait\": {\n",
    "\n",
    "        # Probability of trait given two copies of gene\n",
    "        2: {\n",
    "            True: 0.65,\n",
    "            False: 0.35\n",
    "        },\n",
    "\n",
    "        # Probability of trait given one copy of gene\n",
    "        1: {\n",
    "            True: 0.56,\n",
    "            False: 0.44\n",
    "        },\n",
    "\n",
    "        # Probability of trait given no gene\n",
    "        0: {\n",
    "            True: 0.01,\n",
    "            False: 0.99\n",
    "        }\n",
    "    },\n",
    "\n",
    "    # Mutation probability\n",
    "    \"mutation\": 0.01\n",
    "}\n",
    "\n",
    "\n",
    "def main():\n",
    "\n",
    "    # Check for proper usage\n",
    "    if len(sys.argv) != 2:\n",
    "        sys.exit(\"Usage: python heredity.py data.csv\")\n",
    "    people = load_data(sys.argv[1])\n",
    "\n",
    "    # Keep track of gene and trait probabilities for each person\n",
    "    probabilities = {\n",
    "        person: {\n",
    "            \"gene\": {\n",
    "                2: 0,\n",
    "                1: 0,\n",
    "                0: 0\n",
    "            },\n",
    "            \"trait\": {\n",
    "                True: 0,\n",
    "                False: 0\n",
    "            }\n",
    "        }\n",
    "        for person in people\n",
    "    }\n",
    "\n",
    "    # Loop over all sets of people who might have the trait\n",
    "    names = set(people)\n",
    "    for have_trait in powerset(names):\n",
    "\n",
    "        fails_evidence = any(\n",
    "            (people[person][\"trait\"] is not None and\n",
    "             people[person][\"trait\"] != (person in have_trait))\n",
    "            # if trait is availabe from knowledge but not captured in the have_trait set, \n",
    "            # then we know we should skip this because probability = 0\n",
    "            for person in names\n",
    "        )\n",
    "        if fails_evidence:\n",
    "            continue\n",
    "\n",
    "        # Loop over all sets of people who might have the gene\n",
    "        for one_gene in powerset(names):\n",
    "            for two_genes in powerset(names - one_gene):\n",
    "                # make sure 1) one_gene and two_gene are exclusive\n",
    "                # 2) one_gene + two_gene <= names            \n",
    "                # Update probabilities with new joint probability\n",
    "                p = joint_probability(people, one_gene, two_genes, have_trait)\n",
    "                update(probabilities, one_gene, two_genes, have_trait, p)\n",
    "\n",
    "    # Ensure probabilities sum to 1\n",
    "    normalize(probabilities)\n",
    "\n",
    "    # Print results\n",
    "    for person in people:\n",
    "        print(f\"{person}:\")\n",
    "        for field in probabilities[person]:\n",
    "            print(f\"  {field.capitalize()}:\")\n",
    "            for value in probabilities[person][field]:\n",
    "                p = probabilities[person][field][value]\n",
    "                print(f\"    {value}: {p:.4f}\")\n",
    "\n",
    "\n",
    "def load_data(filename):\n",
    "    \"\"\"\n",
    "    Load gene and trait data from a file into a dictionary.\n",
    "    File assumed to be a CSV containing fields name, mother, father, trait.\n",
    "    mother, father must both be blank, or both be valid names in the CSV.\n",
    "    trait should be 0 or 1 if trait is known, blank otherwise.\n",
    "    \"\"\"\n",
    "    data = dict()\n",
    "    with open(filename) as f:\n",
    "        reader = csv.DictReader(f)\n",
    "        for row in reader:\n",
    "            name = row[\"name\"]\n",
    "            data[name] = {\n",
    "                \"name\": name,\n",
    "                \"mother\": row[\"mother\"] or None,\n",
    "                \"father\": row[\"father\"] or None,\n",
    "                \"trait\": (True if row[\"trait\"] == \"1\" else\n",
    "                          False if row[\"trait\"] == \"0\" else None)\n",
    "            }\n",
    "    return data\n",
    "\n",
    "\n",
    "def powerset(s):\n",
    "    # return all non-repeated subsets of s \n",
    "    \"\"\"\n",
    "    Return a list of all possible subsets of set s.\n",
    "    \"\"\"\n",
    "    s = list(s)\n",
    "    return [\n",
    "        set(s) for s in itertools.chain.from_iterable(\n",
    "            itertools.combinations(s, r) for r in range(len(s) + 1)\n",
    "        )\n",
    "    ]\n"
   ]
  },
  {
   "cell_type": "code",
   "execution_count": 50,
   "id": "informative-flashing",
   "metadata": {
    "tags": []
   },
   "outputs": [],
   "source": [
    "def joint_probability(people, one_gene, two_genes, have_trait):\n",
    "    \"\"\"\n",
    "    Compute and return a joint probability.\n",
    "\n",
    "    The probability returned should be the probability that\n",
    "        * everyone in set `one_gene` has one copy of the gene, and\n",
    "        * everyone in set `two_genes` has two copies of the gene, and\n",
    "        * everyone not in `one_gene` or `two_gene` does not have the gene, and\n",
    "        * everyone in set `have_trait` has the trait, and\n",
    "        * everyone not in set` have_trait` does not have the trait.\n",
    "    \"\"\"\n",
    "    \n",
    "    p = 1\n",
    "    \n",
    "    # update contribution of probability from gene\n",
    "    for person in set(people):\n",
    "        mother = people[person]['mother']\n",
    "        father = people[person]['father']\n",
    "        # everyone in set `one_gene` has one copy of the gene\n",
    "        if person in one_gene: \n",
    "            if mother and father:\n",
    "                p *= compute_child(father, mother, 1, one_gene, two_genes)\n",
    "            else: \n",
    "                p *= PROBS[\"gene\"][1] \n",
    "            # update trait\n",
    "            p *= PROBS[\"trait\"][1][True] if person in have_trait else PROBS[\"trait\"][1][False] \n",
    "        # everyone in set `two_genes` has two copies of the gene\n",
    "        elif person in two_genes:\n",
    "            if mother and father:\n",
    "                p *= compute_child(father, mother, 2, one_gene, two_genes)\n",
    "            else: \n",
    "                p *= PROBS[\"gene\"][2] \n",
    "            # update trait\n",
    "            p *= PROBS[\"trait\"][2][True] if person in have_trait else PROBS[\"trait\"][2][False] \n",
    "        # everyone not in `one_gene` or `two_gene` does not have the gene\n",
    "        else:\n",
    "            if mother and father:\n",
    "                p *= compute_child(father, mother, 0, one_gene, two_genes)\n",
    "            else: \n",
    "                p *= PROBS[\"gene\"][0] \n",
    "            # update trait\n",
    "            p *= PROBS[\"trait\"][0][True] if person in have_trait else PROBS[\"trait\"][0][False] \n",
    "    \n",
    "    return p\n",
    "    \n",
    "      \n",
    "    \n",
    "def compute_child(father, mother, n, one_gene, two_genes):\n",
    "    \"\"\"\n",
    "    computes and returns the probability of the child having n copies of genes\n",
    "    given the name of this person's mother and father\n",
    "    \"\"\"\n",
    "    # the prpbability that father passes 1 or 0 gene to the child\n",
    "    from_father = {\n",
    "        \"gene\": {\n",
    "            1: 0,\n",
    "            0: 0\n",
    "        }\n",
    "    }   \n",
    "    if father in two_genes:\n",
    "        from_father[\"gene\"][1] = 1 - PROBS[\"mutation\"]\n",
    "        from_father[\"gene\"][0] = PROBS[\"mutation\"]\n",
    "    elif father in one_gene:\n",
    "        from_father[\"gene\"][1] = 0.5 # 0.5 * PROB[\"mutation\"] + 0.5 * (1 - PROB[\"mutation\"])\n",
    "        from_father[\"gene\"][0] = 0.5\n",
    "    else:\n",
    "        from_father[\"gene\"][1] = PROBS[\"mutation\"]\n",
    "        from_father[\"gene\"][0] = 1 - PROBS[\"mutation\"]\n",
    "    \n",
    "    # the prpbability that mother passes 1 or 0 gene to the child\n",
    "    from_mother = {\n",
    "        \"gene\": {\n",
    "            1: 0,\n",
    "            0: 0\n",
    "        }\n",
    "    }   \n",
    "    if mother in two_genes:\n",
    "        from_mother[\"gene\"][1] = 1 - PROBS[\"mutation\"]\n",
    "        from_mother[\"gene\"][0] = PROBS[\"mutation\"]\n",
    "    elif mother in one_gene:\n",
    "        from_mother[\"gene\"][1] = 0.5 # 0.5 * PROB[\"mutation\"] + 0.5 * (1 - PROB[\"mutation\"])\n",
    "        from_mother[\"gene\"][0] = 0.5\n",
    "    else:\n",
    "        from_mother[\"gene\"][1] = PROBS[\"mutation\"]\n",
    "        from_mother[\"gene\"][0] = 1 - PROBS[\"mutation\"]\n",
    "   \n",
    "    # probability that child has 0/1/2 genes from parents\n",
    "    if n == 2:\n",
    "        return from_father[\"gene\"][1] * from_mother[\"gene\"][1]\n",
    "    elif n == 1:\n",
    "        return from_father[\"gene\"][1] * from_mother[\"gene\"][0] + \\\n",
    "         from_mother[\"gene\"][1] * from_father[\"gene\"][0]\n",
    "    else:\n",
    "        return from_father[\"gene\"][0] * from_mother[\"gene\"][0]\n",
    "                                                            "
   ]
  },
  {
   "cell_type": "code",
   "execution_count": 51,
   "id": "czech-forestry",
   "metadata": {
    "tags": []
   },
   "outputs": [],
   "source": [
    "def update(probabilities, one_gene, two_genes, have_trait, p):\n",
    "    \"\"\"\n",
    "    Add to `probabilities` a new joint probability `p`.\n",
    "    Each person should have their \"gene\" and \"trait\" distributions updated.\n",
    "    Which value for each distribution is updated depends on whether\n",
    "    the person is in `have_gene` and `have_trait`, respectively.\n",
    "    \"\"\"\n",
    "    for person in set(probabilities):\n",
    "        # update to gene part\n",
    "        if person in one_gene:\n",
    "            probabilities[person][\"gene\"][1] += p\n",
    "        elif person in two_genes:\n",
    "            probabilities[person][\"gene\"][2] += p\n",
    "        else:\n",
    "            probabilities[person][\"gene\"][0] += p\n",
    "        \n",
    "        # update to trait part\n",
    "        if person in have_trait:\n",
    "            probabilities[person][\"trait\"][True] += p\n",
    "        else:\n",
    "            probabilities[person][\"trait\"][False] += p        \n",
    "    # this function operates on the original copy of probabilities; therefore no need to return\n",
    "    \n",
    "\n",
    "def normalize(probabilities):\n",
    "    \"\"\"\n",
    "    Update `probabilities` such that each probability distribution\n",
    "    is normalized (i.e., sums to 1, with relative proportions the same).\n",
    "    \"\"\"\n",
    "    for person in set(probabilities):\n",
    "        # normlize gene part\n",
    "        gene_sum = probabilities[person][\"gene\"][1] + probabilities[person][\"gene\"][2] + \\\n",
    "         probabilities[person][\"gene\"][0]\n",
    "        probabilities[person][\"gene\"][1] /= gene_sum\n",
    "        probabilities[person][\"gene\"][2] /= gene_sum\n",
    "        probabilities[person][\"gene\"][0] /= gene_sum\n",
    "        \n",
    "        # normalize trait part\n",
    "        trait_sum = probabilities[person][\"trait\"][True] + probabilities[person][\"trait\"][False]\n",
    "        probabilities[person][\"trait\"][True] /= trait_sum \n",
    "        probabilities[person][\"trait\"][False] /= trait_sum \n",
    "        \n",
    "    # this function operates on the original copy of probabilities; therefore no need to return"
   ]
  },
  {
   "cell_type": "code",
   "execution_count": 52,
   "id": "periodic-angle",
   "metadata": {},
   "outputs": [
    {
     "data": {
      "text/plain": [
       "0.0026643247487999995"
      ]
     },
     "execution_count": 52,
     "metadata": {},
     "output_type": "execute_result"
    }
   ],
   "source": [
    "joint_probability(people, {\"Harry\"}, {\"James\"}, {\"James\"})"
   ]
  },
  {
   "cell_type": "code",
   "execution_count": 62,
   "id": "close-overall",
   "metadata": {},
   "outputs": [
    {
     "name": "stdout",
     "output_type": "stream",
     "text": [
      "Harry:\n",
      "  Gene:\n",
      "    2: 0.0092\n",
      "    1: 0.4557\n",
      "    0: 0.5351\n",
      "  Trait:\n",
      "    True: 0.2665\n",
      "    False: 0.7335\n",
      "James:\n",
      "  Gene:\n",
      "    2: 0.1976\n",
      "    1: 0.5106\n",
      "    0: 0.2918\n",
      "  Trait:\n",
      "    True: 1.0000\n",
      "    False: 0.0000\n",
      "Lily:\n",
      "  Gene:\n",
      "    2: 0.0036\n",
      "    1: 0.0136\n",
      "    0: 0.9827\n",
      "  Trait:\n",
      "    True: 0.0000\n",
      "    False: 1.0000\n"
     ]
    }
   ],
   "source": [
    "%run heredity.py \"data/family0.csv\""
   ]
  },
  {
   "cell_type": "code",
   "execution_count": 63,
   "id": "tutorial-screw",
   "metadata": {},
   "outputs": [
    {
     "name": "stdout",
     "output_type": "stream",
     "text": [
      "Arthur:\n",
      "  Gene:\n",
      "    2: 0.0329\n",
      "    1: 0.1035\n",
      "    0: 0.8636\n",
      "  Trait:\n",
      "    True: 0.0000\n",
      "    False: 1.0000\n",
      "Charlie:\n",
      "  Gene:\n",
      "    2: 0.0018\n",
      "    1: 0.1331\n",
      "    0: 0.8651\n",
      "  Trait:\n",
      "    True: 0.0000\n",
      "    False: 1.0000\n",
      "Fred:\n",
      "  Gene:\n",
      "    2: 0.0065\n",
      "    1: 0.6486\n",
      "    0: 0.3449\n",
      "  Trait:\n",
      "    True: 1.0000\n",
      "    False: 0.0000\n",
      "Ginny:\n",
      "  Gene:\n",
      "    2: 0.0027\n",
      "    1: 0.1805\n",
      "    0: 0.8168\n",
      "  Trait:\n",
      "    True: 0.1110\n",
      "    False: 0.8890\n",
      "Molly:\n",
      "  Gene:\n",
      "    2: 0.0329\n",
      "    1: 0.1035\n",
      "    0: 0.8636\n",
      "  Trait:\n",
      "    True: 0.0000\n",
      "    False: 1.0000\n",
      "Ron:\n",
      "  Gene:\n",
      "    2: 0.0027\n",
      "    1: 0.1805\n",
      "    0: 0.8168\n",
      "  Trait:\n",
      "    True: 0.1110\n",
      "    False: 0.8890\n"
     ]
    }
   ],
   "source": [
    "%run heredity.py \"data/family1.csv\""
   ]
  },
  {
   "cell_type": "code",
   "execution_count": 64,
   "id": "classical-advisory",
   "metadata": {},
   "outputs": [
    {
     "name": "stdout",
     "output_type": "stream",
     "text": [
      "Arthur:\n",
      "  Gene:\n",
      "    2: 0.0147\n",
      "    1: 0.0344\n",
      "    0: 0.9509\n",
      "  Trait:\n",
      "    True: 0.0000\n",
      "    False: 1.0000\n",
      "Hermione:\n",
      "  Gene:\n",
      "    2: 0.0608\n",
      "    1: 0.1203\n",
      "    0: 0.8189\n",
      "  Trait:\n",
      "    True: 0.0000\n",
      "    False: 1.0000\n",
      "Molly:\n",
      "  Gene:\n",
      "    2: 0.0404\n",
      "    1: 0.0744\n",
      "    0: 0.8852\n",
      "  Trait:\n",
      "    True: 0.0768\n",
      "    False: 0.9232\n",
      "Ron:\n",
      "  Gene:\n",
      "    2: 0.0043\n",
      "    1: 0.2149\n",
      "    0: 0.7808\n",
      "  Trait:\n",
      "    True: 0.0000\n",
      "    False: 1.0000\n",
      "Rose:\n",
      "  Gene:\n",
      "    2: 0.0088\n",
      "    1: 0.7022\n",
      "    0: 0.2890\n",
      "  Trait:\n",
      "    True: 1.0000\n",
      "    False: 0.0000\n"
     ]
    }
   ],
   "source": [
    "%run heredity.py \"data/family2.csv\""
   ]
  },
  {
   "cell_type": "code",
   "execution_count": 60,
   "id": "following-meter",
   "metadata": {
    "tags": []
   },
   "outputs": [
    {
     "ename": "SystemExit",
     "evalue": "Usage: python heredity.py data.csv",
     "output_type": "error",
     "traceback": [
      "An exception has occurred, use %tb to see the full traceback.\n",
      "\u001b[1;31mSystemExit\u001b[0m\u001b[1;31m:\u001b[0m Usage: python heredity.py data.csv\n"
     ]
    }
   ],
   "source": [
    "if __name__ == \"__main__\":\n",
    "    main()"
   ]
  },
  {
   "cell_type": "code",
   "execution_count": 55,
   "id": "daily-picture",
   "metadata": {},
   "outputs": [
    {
     "name": "stdout",
     "output_type": "stream",
     "text": [
      "{'gene': {2: 0.01, 1: 0.03, 0: 0.96}, 'trait': {2: {True: 0.65, False: 0.35}, 1: {True: 0.56, False: 0.44}, 0: {True: 0.01, False: 0.99}}, 'mutation': 0.01}\n",
      "0.03\n",
      "{True: 0.56, False: 0.44}\n",
      "C:\\Users\\wangj337\\Google Drive\\Courses\\IntroAI-CS50\\2Uncertainty\\heredity\\data\n"
     ]
    }
   ],
   "source": [
    "print(PROBS)\n",
    "print(PROBS[\"gene\"][1])\n",
    "print(PROBS[\"trait\"][1])\n",
    "\n",
    "%cd \"C:/Users/wangj337/Google Drive/Courses/IntroAI-CS50/2Uncertainty/heredity/data\"\n",
    "people = load_data(\"family0.csv\")"
   ]
  },
  {
   "cell_type": "code",
   "execution_count": 19,
   "id": "athletic-barcelona",
   "metadata": {},
   "outputs": [
    {
     "name": "stdout",
     "output_type": "stream",
     "text": [
      "{'Harry': {'name': 'Harry', 'mother': 'Lily', 'father': 'James', 'trait': None}, 'James': {'name': 'James', 'mother': None, 'father': None, 'trait': True}, 'Lily': {'name': 'Lily', 'mother': None, 'father': None, 'trait': False}}\n",
      "{'Harry', 'Lily', 'James'}\n",
      "[set(), {'Harry'}, {'Lily'}, {'James'}, {'Harry', 'Lily'}, {'Harry', 'James'}, {'James', 'Lily'}, {'Harry', 'Lily', 'James'}]\n"
     ]
    },
    {
     "data": {
      "text/plain": [
       "{'name': 'Harry', 'mother': 'Lily', 'father': 'James', 'trait': None}"
      ]
     },
     "execution_count": 19,
     "metadata": {},
     "output_type": "execute_result"
    }
   ],
   "source": [
    "# Loop over all sets of people who might have the trait\n",
    "names = set(people)\n",
    "\n",
    "print(people)\n",
    "print(names)\n",
    "print(powerset(names))\n",
    "people['Harry']"
   ]
  },
  {
   "cell_type": "code",
   "execution_count": 40,
   "id": "humanitarian-isolation",
   "metadata": {},
   "outputs": [
    {
     "name": "stdout",
     "output_type": "stream",
     "text": [
      "{'Harry': {'gene': {2: 0, 1: 0, 0: 0}, 'trait': {True: 0, False: 0}}, 'James': {'gene': {2: 0, 1: 0, 0: 0}, 'trait': {True: 0, False: 0}}, 'Lily': {'gene': {2: 0, 1: 0, 0: 0}, 'trait': {True: 0, False: 0}}}\n",
      "{'Harry', 'Lily', 'James'}\n"
     ]
    }
   ],
   "source": [
    "# Keep track of gene and trait probabilities for each person\n",
    "probabilities = {\n",
    "    person: {\n",
    "        \"gene\": {\n",
    "            2: 0,\n",
    "            1: 0,\n",
    "            0: 0\n",
    "        },\n",
    "        \"trait\": {\n",
    "            True: 0,\n",
    "            False: 0\n",
    "        }\n",
    "    }\n",
    "    for person in people\n",
    "}\n",
    "print(probabilities)\n",
    "print(set(probabilities))"
   ]
  },
  {
   "cell_type": "code",
   "execution_count": 27,
   "id": "greatest-upgrade",
   "metadata": {},
   "outputs": [
    {
     "name": "stdout",
     "output_type": "stream",
     "text": [
      "{'James', 'Lily'}\n",
      "False\n",
      "True\n",
      "{'Harry', 'Lily', 'James'}\n"
     ]
    }
   ],
   "source": [
    "have_trait = powerset(names)[6]\n",
    "print(have_trait)\n",
    "person = 'Lily'\n",
    "print(people[person][\"trait\"])\n",
    "print(person in have_trait)\n",
    "one_gene = powerset(names)[7]\n",
    "print(one_gene)"
   ]
  },
  {
   "cell_type": "code",
   "execution_count": 38,
   "id": "derived-setting",
   "metadata": {},
   "outputs": [
    {
     "name": "stdout",
     "output_type": "stream",
     "text": [
      "Harry\n"
     ]
    }
   ],
   "source": [
    "for person in one_gene:\n",
    "    #print(people[person])\n",
    "    if people[person]['mother'] and people[person]['father']:\n",
    "        print(person)"
   ]
  },
  {
   "cell_type": "code",
   "execution_count": 39,
   "id": "cardiac-singles",
   "metadata": {},
   "outputs": [
    {
     "data": {
      "text/plain": [
       "0.01"
      ]
     },
     "execution_count": 39,
     "metadata": {},
     "output_type": "execute_result"
    }
   ],
   "source": [
    "PROBS[\"trait\"][0][True]"
   ]
  },
  {
   "cell_type": "code",
   "execution_count": 41,
   "id": "entitled-colon",
   "metadata": {},
   "outputs": [
    {
     "name": "stdout",
     "output_type": "stream",
     "text": [
      "0.6\n"
     ]
    }
   ],
   "source": [
    "a = 0.3\n",
    "test_sum = 0.5\n",
    "a /= test_sum\n",
    "print(a)\n"
   ]
  },
  {
   "cell_type": "code",
   "execution_count": 56,
   "id": "balanced-congress",
   "metadata": {},
   "outputs": [
    {
     "name": "stdout",
     "output_type": "stream",
     "text": [
      "C:\\Users\\wangj337\\Google Drive\\Courses\\IntroAI-CS50\\2Uncertainty\\heredity\n"
     ]
    },
    {
     "name": "stderr",
     "output_type": "stream",
     "text": [
      "[NbConvertApp] Converting notebook scratch.ipynb to script\n",
      "[NbConvertApp] Writing 10768 bytes to heredity.py\n"
     ]
    }
   ],
   "source": [
    "%cd \"C:/Users/wangj337/Google Drive/Courses/IntroAI-CS50/2Uncertainty/heredity\"\n",
    "!jupyter nbconvert --to script \"scratch.ipynb\" --output heredity"
   ]
  },
  {
   "cell_type": "code",
   "execution_count": null,
   "id": "finished-penny",
   "metadata": {},
   "outputs": [],
   "source": []
  }
 ],
 "metadata": {
  "kernelspec": {
   "display_name": "Python 3",
   "language": "python",
   "name": "python3"
  },
  "language_info": {
   "codemirror_mode": {
    "name": "ipython",
    "version": 3
   },
   "file_extension": ".py",
   "mimetype": "text/x-python",
   "name": "python",
   "nbconvert_exporter": "python",
   "pygments_lexer": "ipython3",
   "version": "3.9.2"
  }
 },
 "nbformat": 4,
 "nbformat_minor": 5
}
