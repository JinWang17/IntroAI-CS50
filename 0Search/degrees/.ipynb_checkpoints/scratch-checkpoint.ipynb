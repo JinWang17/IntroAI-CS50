{
 "cells": [
  {
   "cell_type": "code",
   "execution_count": 2,
   "id": "fiscal-salad",
   "metadata": {},
   "outputs": [],
   "source": [
    "##################################################################\n",
    "# Jin Wang\n",
    "# Feb 24, 2021\n",
    "# The following has been changed to the source code degrees.py:\n",
    "# 1) Add the logic for shortest path \n",
    "# TODO: \n",
    "##################################################################\n",
    "from IPython.core.debugger import set_trace\n"
   ]
  },
  {
   "cell_type": "code",
   "execution_count": 3,
   "id": "historical-burner",
   "metadata": {},
   "outputs": [],
   "source": [
    "# %load \"C:/Users/wangj337/Google Drive/Courses/IntroToAI/0Search/degrees/degrees.py\"\n",
    "import csv\n",
    "import sys\n",
    "\n",
    "from util import Node, StackFrontier, QueueFrontier\n",
    "\n",
    "# Maps names to a set of corresponding person_ids\n",
    "# names = {Name(lowercase): ID (multiple ID is fine)}\n",
    "names = {}\n",
    "\n",
    "# Maps person_ids to a dictionary of: name, birth, movies (a set of movie_ids)\n",
    "# people = {ID: name, birth, movies}\n",
    "people = {}\n",
    "\n",
    "# Maps movie_ids to a dictionary of: title, year, stars (a set of person_ids)\n",
    "movies = {}\n",
    "\n",
    "def load_data(directory):\n",
    "    \"\"\"\n",
    "    Load data from CSV files into memory.\n",
    "    \"\"\"\n",
    "    # Load people\n",
    "    with open(f\"{directory}/people.csv\", encoding=\"utf-8\") as f:\n",
    "        reader = csv.DictReader(f)\n",
    "        for row in reader:\n",
    "            people[row[\"id\"]] = {\n",
    "                \"name\": row[\"name\"],\n",
    "                \"birth\": row[\"birth\"],\n",
    "                \"movies\": set()   \n",
    "                # what does this line do? This is an empty set used to store unique elements later\n",
    "            }\n",
    "            if row[\"name\"].lower() not in names:\n",
    "                names[row[\"name\"].lower()] = {row[\"id\"]}\n",
    "            else:\n",
    "                names[row[\"name\"].lower()].add(row[\"id\"])\n",
    "\n",
    "    # Load movies\n",
    "    with open(f\"{directory}/movies.csv\", encoding=\"utf-8\") as f:\n",
    "        reader = csv.DictReader(f)\n",
    "        for row in reader:\n",
    "            movies[row[\"id\"]] = {\n",
    "                \"title\": row[\"title\"],\n",
    "                \"year\": row[\"year\"],\n",
    "                \"stars\": set()\n",
    "            }\n",
    "\n",
    "    # Load stars\n",
    "    with open(f\"{directory}/stars.csv\", encoding=\"utf-8\") as f:\n",
    "        reader = csv.DictReader(f)\n",
    "        for row in reader:\n",
    "            try:\n",
    "                people[row[\"person_id\"]][\"movies\"].add(row[\"movie_id\"])\n",
    "                movies[row[\"movie_id\"]][\"stars\"].add(row[\"person_id\"])\n",
    "            except KeyError:\n",
    "                pass \n",
    "            # Q: Why would there be any error??\n",
    "            # A: When the star.csv contains movies/ poeple that are not listed in the people.csv or movie.csv\n",
    "            # The Python KeyError is a type of LookupError exception and denotes that there was an issue retrieving the key you were looking for. \n",
    "            # When you see a KeyError , the semantic meaning is that the key being looked for could not be found."
   ]
  },
  {
   "cell_type": "code",
   "execution_count": 7,
   "id": "iraqi-tenant",
   "metadata": {},
   "outputs": [],
   "source": [
    "def main():\n",
    "    # TODO: What is the difference between main() and directly writing out the main lines as in src0.py?\n",
    "    \n",
    "    if len(sys.argv) > 2:\n",
    "        sys.exit(\"Usage: python degrees.py [directory]\")\n",
    "    directory = sys.argv[1] if len(sys.argv) == 2 else \"large\"\n",
    "    # default is to use \"large\"\n",
    "    # USAGE: XX = ... if ... else ... \n",
    "\n",
    "    # Load data from files into memory\n",
    "    print(\"Loading data...\")\n",
    "    load_data(directory)\n",
    "    print(\"Data loaded.\")\n",
    "    \n",
    "    nextRound = True\n",
    "    while(nextRound):\n",
    "        source = person_id_for_name(input(\"Name: \"))\n",
    "        if source is None:\n",
    "            sys.exit(\"Person not found.\")\n",
    "        target = person_id_for_name(input(\"Name: \"))\n",
    "        if target is None:\n",
    "            sys.exit(\"Person not found.\")\n",
    "\n",
    "        path = shortest_path(source, target)\n",
    "\n",
    "        if path is None:\n",
    "            print(\"Not connected.\")\n",
    "        else:\n",
    "            degrees = len(path)\n",
    "            print(f\"{degrees} degrees of separation.\")\n",
    "            path = [(None, source)] + path \n",
    "            # path is like a matrix, first element is the movie that connects with last person; second element is the person's name\n",
    "            # movie name and person name is in ID \n",
    "            for i in range(degrees): # 0, 1, 2, ..., degrees\n",
    "                person1 = people[path[i][1]][\"name\"]  # access name by ID\n",
    "                person2 = people[path[i + 1][1]][\"name\"]\n",
    "                movie = movies[path[i + 1][0]][\"title\"] # access title by ID\n",
    "                print(f\"{i + 1}: {person1} and {person2} starred in {movie}\")\n",
    "                # print(f\"{Variables to be replaces} Variables to be displayed\")\n",
    "        \n",
    "        nextRound = True if input(\"Continue: Y? N?\") == \"Y\" else False\n",
    "\n",
    "def person_id_for_name(name):\n",
    "    \"\"\"\n",
    "    Returns the IMDB id for a person's name,\n",
    "    resolving ambiguities as needed.\n",
    "    \"\"\"\n",
    "    person_ids = list(names.get(name.lower(), set())) \n",
    "    # dict.get(key[, value]) is the same as dict[key] most of the time\n",
    "    # Difference: get() method returns a default value if the key is missing.\n",
    "    # However, if the key is not found when you use dict[key], KeyError exception is raised.\n",
    "    # Here, we ask the code to return an empty set when there is no such person in the dictionary \"names\"\n",
    "     \n",
    "    if len(person_ids) == 0:\n",
    "        return None\n",
    "    elif len(person_ids) > 1:\n",
    "        print(f\"Which '{name}'?\")\n",
    "        for person_id in person_ids:\n",
    "            person = people[person_id]\n",
    "            name = person[\"name\"]\n",
    "            birth = person[\"birth\"]\n",
    "            print(f\"ID: {person_id}, Name: {name}, Birth: {birth}\")\n",
    "        try:\n",
    "            person_id = input(\"Intended Person ID: \")\n",
    "            if person_id in person_ids:\n",
    "                return person_id\n",
    "        except ValueError:\n",
    "            pass\n",
    "        return None\n",
    "    else:\n",
    "        return person_ids[0]\n",
    "\n",
    "\n",
    "def neighbors_for_person(person_id):\n",
    "    \"\"\"\n",
    "    Returns (movie_id, person_id) pairs for people\n",
    "    who starred with a given person.\n",
    "    \"\"\"\n",
    "    movie_ids = people[person_id][\"movies\"]\n",
    "    neighbors = set()\n",
    "    for movie_id in movie_ids:\n",
    "        for person_id in movies[movie_id][\"stars\"]:\n",
    "            neighbors.add((movie_id, person_id))\n",
    "    return neighbors\n",
    "\n"
   ]
  },
  {
   "cell_type": "code",
   "execution_count": 5,
   "id": "naval-glass",
   "metadata": {
    "tags": []
   },
   "outputs": [],
   "source": [
    "def shortest_path(source, target):\n",
    "    \"\"\"\n",
    "    Returns the shortest list of (movie_id, person_id) pairs\n",
    "    that connect the source to the target.\n",
    "\n",
    "    If no possible path, returns None.\n",
    "    \"\"\"\n",
    "    \n",
    "    # Initialize frontier to just the source person ID\n",
    "    start = Node(state=source, parent=None, action=None)\n",
    "    frontier = QueueFrontier()\n",
    "    frontier.add(start)\n",
    "    \n",
    "    # Initialize an empty explored set\n",
    "    explored = set()\n",
    "    \n",
    "    # Keep looping until solution found\n",
    "    while True:\n",
    "        \n",
    "        # print(\"a new loop\")\n",
    "        # If nothing left in frontier, then no path\n",
    "        if frontier.empty():\n",
    "            return\n",
    "        \n",
    "        # Choose a node from the frontier\n",
    "        node = frontier.remove()\n",
    "        # print(f\"person_ID: {node.state}\")\n",
    "        # print(f\"movie_ID: {node.action}\")\n",
    "        # Mark node as explored\n",
    "        explored.add(node.state)\n",
    "\n",
    "        # Add neighbors to frontier\n",
    "        for action, state in neighbors_for_person(node.state):\n",
    "            if not frontier.contains_state(state) and state not in explored:\n",
    "                # check if node is the target; if yes, then we have a solution\n",
    "                \n",
    "                # set_trace()\n",
    "                # Type “n” and hit Enter to run the next line of code (The → arrow shows you the current position). \n",
    "                # Use “c” to continue until the next breakpoint. “q” quits the debugger and code execution.\n",
    "                \n",
    "                if state == target:\n",
    "                    # print(\"hit target\")\n",
    "                    solution = [(action, state)]\n",
    "                    # actions is the movie list; cells is the movie star list \n",
    "                    while node.parent is not None:\n",
    "                        solution.append((node.action, node.state))\n",
    "                        node = node.parent\n",
    "                    solution.reverse()\n",
    "                    #print(solution)\n",
    "                    return(list(solution))\n",
    "                \n",
    "                # if not the target person, add this to the frontier\n",
    "                child = Node(state=state, parent=node, action=action)\n",
    "                frontier.add(child)\n",
    "\n"
   ]
  },
  {
   "cell_type": "code",
   "execution_count": null,
   "id": "unavailable-bruce",
   "metadata": {
    "tags": []
   },
   "outputs": [],
   "source": [
    "if __name__ == \"__main__\":\n",
    "    main()\n"
   ]
  },
  {
   "cell_type": "code",
   "execution_count": 19,
   "id": "mediterranean-jacket",
   "metadata": {
    "tags": []
   },
   "outputs": [
    {
     "name": "stdout",
     "output_type": "stream",
     "text": [
      "C:\\Users\\wangj337\\Google Drive\\Courses\\IntroToAI\\0Search\\degrees\n",
      "Loading data...\n",
      "Data loaded.\n",
      "129\n",
      "158\n",
      "[('104257', '102'), ('112384', '158')]\n",
      "[('104257', '102'), ('112384', '158')]\n"
     ]
    },
    {
     "data": {
      "text/plain": [
       "list"
      ]
     },
     "execution_count": 19,
     "metadata": {},
     "output_type": "execute_result"
    }
   ],
   "source": [
    "%cd \"C:/Users/wangj337/Google Drive/Courses/IntroToAI/0Search/degrees/\"\n",
    "directory = \"small\"\n",
    "\n",
    "print(\"Loading data...\")\n",
    "load_data(directory)\n",
    "print(\"Data loaded.\")\n",
    "\n",
    "source = person_id_for_name(\"Tom Cruise\")\n",
    "target = person_id_for_name(\"Tom Hanks\")\n",
    "print(source)\n",
    "print(target)\n",
    "path = shortest_path(source, target)\n",
    "print(path)\n",
    "type(path)"
   ]
  },
  {
   "cell_type": "code",
   "execution_count": 23,
   "id": "magnetic-copyright",
   "metadata": {
    "collapsed": true,
    "jupyter": {
     "outputs_hidden": true
    },
    "tags": []
   },
   "outputs": [
    {
     "data": {
      "text/plain": [
       "{'102': {'name': 'Kevin Bacon',\n",
       "  'birth': '1958',\n",
       "  'movies': {'104257', '112384'}},\n",
       " '129': {'name': 'Tom Cruise', 'birth': '1962', 'movies': {'104257', '95953'}},\n",
       " '144': {'name': 'Cary Elwes', 'birth': '1962', 'movies': {'93779'}},\n",
       " '158': {'name': 'Tom Hanks', 'birth': '1956', 'movies': {'109830', '112384'}},\n",
       " '1597': {'name': 'Mandy Patinkin', 'birth': '1952', 'movies': {'93779'}},\n",
       " '163': {'name': 'Dustin Hoffman', 'birth': '1937', 'movies': {'95953'}},\n",
       " '1697': {'name': 'Chris Sarandon', 'birth': '1942', 'movies': {'93779'}},\n",
       " '193': {'name': 'Demi Moore', 'birth': '1962', 'movies': {'104257'}},\n",
       " '197': {'name': 'Jack Nicholson', 'birth': '1937', 'movies': {'104257'}},\n",
       " '200': {'name': 'Bill Paxton', 'birth': '1955', 'movies': {'112384'}},\n",
       " '398': {'name': 'Sally Field', 'birth': '1946', 'movies': {'109830'}},\n",
       " '420': {'name': 'Valeria Golino', 'birth': '1965', 'movies': {'95953'}},\n",
       " '596520': {'name': 'Gerald R. Molen', 'birth': '1935', 'movies': {'95953'}},\n",
       " '641': {'name': 'Gary Sinise',\n",
       "  'birth': '1955',\n",
       "  'movies': {'109830', '112384'}},\n",
       " '705': {'name': 'Robin Wright',\n",
       "  'birth': '1966',\n",
       "  'movies': {'109830', '93779'}},\n",
       " '914612': {'name': 'Emma Watson', 'birth': '1990', 'movies': set()}}"
      ]
     },
     "execution_count": 23,
     "metadata": {},
     "output_type": "execute_result"
    }
   ],
   "source": [
    "testID = person_id_for_name(source)\n",
    "testID\n",
    "\n",
    "# understand people\n",
    "people"
   ]
  },
  {
   "cell_type": "code",
   "execution_count": 61,
   "id": "focused-latino",
   "metadata": {
    "collapsed": true,
    "jupyter": {
     "outputs_hidden": true,
     "source_hidden": true
    },
    "tags": []
   },
   "outputs": [
    {
     "name": "stdout",
     "output_type": "stream",
     "text": [
      "{'104257', '95953'}\n",
      "{'name': 'Tom Cruise', 'birth': '1962', 'movies': {'104257', '95953'}}\n",
      "{'129', '197', '102', '105', '193'}\n",
      "{'title': 'A Few Good Men', 'year': '1992', 'stars': {'129', '197', '102', '105', '193'}}\n",
      "{'title': 'A Few Good Men', 'year': '1992', 'stars': {'129', '197', '102', '105', '193'}}\n"
     ]
    },
    {
     "ename": "KeyError",
     "evalue": "'157'",
     "output_type": "error",
     "traceback": [
      "\u001b[1;31m---------------------------------------------------------------------------\u001b[0m",
      "\u001b[1;31mKeyError\u001b[0m                                  Traceback (most recent call last)",
      "\u001b[1;32m<ipython-input-61-92bf38c78c1a>\u001b[0m in \u001b[0;36m<module>\u001b[1;34m\u001b[0m\n\u001b[0;32m      6\u001b[0m \u001b[0mmovies\u001b[0m\u001b[1;33m[\u001b[0m\u001b[1;34m'104257'\u001b[0m\u001b[1;33m]\u001b[0m\u001b[1;33m[\u001b[0m\u001b[1;34m\"stars\"\u001b[0m\u001b[1;33m]\u001b[0m\u001b[1;33m.\u001b[0m\u001b[0madd\u001b[0m\u001b[1;33m(\u001b[0m\u001b[1;34m'102'\u001b[0m\u001b[1;33m)\u001b[0m\u001b[1;33m\u001b[0m\u001b[1;33m\u001b[0m\u001b[0m\n\u001b[0;32m      7\u001b[0m \u001b[0mprint\u001b[0m\u001b[1;33m(\u001b[0m\u001b[0mmovies\u001b[0m\u001b[1;33m[\u001b[0m\u001b[1;34m'104257'\u001b[0m\u001b[1;33m]\u001b[0m\u001b[1;33m)\u001b[0m\u001b[1;33m\u001b[0m\u001b[1;33m\u001b[0m\u001b[0m\n\u001b[1;32m----> 8\u001b[1;33m \u001b[0mmovies\u001b[0m\u001b[1;33m[\u001b[0m\u001b[1;34m'157'\u001b[0m\u001b[1;33m]\u001b[0m\u001b[1;33m[\u001b[0m\u001b[1;34m\"stars\"\u001b[0m\u001b[1;33m]\u001b[0m\u001b[1;33m.\u001b[0m\u001b[0madd\u001b[0m\u001b[1;33m(\u001b[0m\u001b[1;34m'102'\u001b[0m\u001b[1;33m)\u001b[0m\u001b[1;33m\u001b[0m\u001b[1;33m\u001b[0m\u001b[0m\n\u001b[0m",
      "\u001b[1;31mKeyError\u001b[0m: '157'"
     ]
    }
   ],
   "source": [
    "print(people['129'][\"movies\"])\n",
    "print(people['129'])\n",
    "print(movies['104257'][\"stars\"])\n",
    "print(movies['104257'])\n",
    "movies['104257'][\"stars\"].add('105')\n",
    "movies['104257'][\"stars\"].add('102')\n",
    "print(movies['104257'])\n",
    "movies['157'][\"stars\"].add('102') # this will result in a key error"
   ]
  },
  {
   "cell_type": "code",
   "execution_count": 29,
   "id": "metropolitan-command",
   "metadata": {},
   "outputs": [
    {
     "data": {
      "text/plain": [
       "{('104257', '102'),\n",
       " ('104257', '129'),\n",
       " ('104257', '193'),\n",
       " ('104257', '197'),\n",
       " ('95953', '129'),\n",
       " ('95953', '163'),\n",
       " ('95953', '420'),\n",
       " ('95953', '596520')}"
      ]
     },
     "execution_count": 29,
     "metadata": {},
     "output_type": "execute_result"
    }
   ],
   "source": [
    "test_ne = neighbors_for_person('129')\n",
    "test_ne"
   ]
  },
  {
   "cell_type": "code",
   "execution_count": 66,
   "id": "crazy-italy",
   "metadata": {},
   "outputs": [
    {
     "name": "stdout",
     "output_type": "stream",
     "text": [
      "['158']\n",
      "{'158'}\n"
     ]
    },
    {
     "data": {
      "text/plain": [
       "{'kevin bacon': {'102'},\n",
       " 'tom cruise': {'129'},\n",
       " 'cary elwes': {'144'},\n",
       " 'tom hanks': {'158'},\n",
       " 'mandy patinkin': {'1597'},\n",
       " 'dustin hoffman': {'163'},\n",
       " 'chris sarandon': {'1697'},\n",
       " 'demi moore': {'193'},\n",
       " 'jack nicholson': {'197'},\n",
       " 'bill paxton': {'200'},\n",
       " 'sally field': {'398'},\n",
       " 'valeria golino': {'420'},\n",
       " 'gerald r. molen': {'596520'},\n",
       " 'gary sinise': {'641'},\n",
       " 'robin wright': {'705'},\n",
       " 'emma watson': {'914612'}}"
      ]
     },
     "execution_count": 66,
     "metadata": {},
     "output_type": "execute_result"
    }
   ],
   "source": [
    "name = \"Tom Hanks\"\n",
    "person_ids = list(names.get(name.lower(), set())) \n",
    "print(person_ids)\n",
    "print(names[name.lower()])\n",
    "names"
   ]
  },
  {
   "cell_type": "code",
   "execution_count": 4,
   "id": "violent-alaska",
   "metadata": {
    "tags": []
   },
   "outputs": [],
   "source": [
    "# This is to get a peek into what util.py does\n",
    "# %load \"C:/Users/wangj337/Google Drive/Courses/IntroToAI/0Search/degrees/util.py\"\n",
    "class Node():\n",
    "    def __init__(self, state, parent, action):\n",
    "        self.state = state\n",
    "        self.parent = parent\n",
    "        self.action = action\n",
    "\n",
    "\n",
    "class StackFrontier():\n",
    "    def __init__(self):\n",
    "        self.frontier = []\n",
    "\n",
    "    def add(self, node):\n",
    "        self.frontier.append(node)\n",
    "\n",
    "    def contains_state(self, state):\n",
    "        return any(node.state == state for node in self.frontier)\n",
    "\n",
    "    def empty(self):\n",
    "        return len(self.frontier) == 0\n",
    "\n",
    "    def remove(self):\n",
    "        if self.empty():\n",
    "            raise Exception(\"empty frontier\")\n",
    "        else:\n",
    "            node = self.frontier[-1]\n",
    "            self.frontier = self.frontier[:-1]\n",
    "            return node\n",
    "\n",
    "\n",
    "class QueueFrontier(StackFrontier):\n",
    "\n",
    "    def remove(self):\n",
    "        if self.empty():\n",
    "            raise Exception(\"empty frontier\")\n",
    "        else:\n",
    "            node = self.frontier[0]\n",
    "            self.frontier = self.frontier[1:]\n",
    "            return node\n"
   ]
  },
  {
   "cell_type": "code",
   "execution_count": 21,
   "id": "twelve-momentum",
   "metadata": {},
   "outputs": [
    {
     "name": "stderr",
     "output_type": "stream",
     "text": [
      "[NbConvertApp] Converting notebook scratch.ipynb to script\n",
      "[NbConvertApp] Writing 10020 bytes to degrees.py\n"
     ]
    }
   ],
   "source": [
    "# Converting this into a .py file\n",
    "!jupyter nbconvert --to script \"scratch.ipynb\" --output degrees"
   ]
  },
  {
   "cell_type": "code",
   "execution_count": 6,
   "id": "wrong-holiday",
   "metadata": {},
   "outputs": [
    {
     "name": "stdout",
     "output_type": "stream",
     "text": [
      "Loading data...\n",
      "Data loaded.\n"
     ]
    },
    {
     "name": "stdin",
     "output_type": "stream",
     "text": [
      "Name:  Tom Cruise\n",
      "Name:  Emma Watson\n"
     ]
    },
    {
     "name": "stdout",
     "output_type": "stream",
     "text": [
      "2 degrees of separation.\n",
      "1: Tom Cruise and Jennifer Connelly starred in Top Gun: Maverick\n",
      "2: Jennifer Connelly and Emma Watson starred in Noah\n"
     ]
    }
   ],
   "source": [
    "%run -i degrees.py"
   ]
  },
  {
   "cell_type": "code",
   "execution_count": 80,
   "id": "alternative-panama",
   "metadata": {
    "tags": []
   },
   "outputs": [
    {
     "data": {
      "text/plain": [
       "3"
      ]
     },
     "execution_count": 80,
     "metadata": {},
     "output_type": "execute_result"
    }
   ],
   "source": [
    "len(sys.argv)"
   ]
  },
  {
   "cell_type": "code",
   "execution_count": 20,
   "id": "historical-thong",
   "metadata": {},
   "outputs": [
    {
     "name": "stdout",
     "output_type": "stream",
     "text": [
      "Loading data...\n",
      "Data loaded.\n"
     ]
    },
    {
     "name": "stdin",
     "output_type": "stream",
     "text": [
      "Name:  Tom Hanks\n",
      "Name:  Tom Cruise\n"
     ]
    },
    {
     "name": "stdout",
     "output_type": "stream",
     "text": [
      "[('112384', '102'), ('104257', '129')]\n",
      "> \u001b[1;32m<ipython-input-12-e9348c9de605>\u001b[0m(27)\u001b[0;36mmain\u001b[1;34m()\u001b[0m\n",
      "\u001b[1;32m     25 \u001b[1;33m    \u001b[0mset_trace\u001b[0m\u001b[1;33m(\u001b[0m\u001b[1;33m)\u001b[0m\u001b[1;33m\u001b[0m\u001b[1;33m\u001b[0m\u001b[0m\n",
      "\u001b[0m\u001b[1;32m     26 \u001b[1;33m\u001b[1;33m\u001b[0m\u001b[0m\n",
      "\u001b[0m\u001b[1;32m---> 27 \u001b[1;33m    \u001b[1;32mif\u001b[0m \u001b[0mpath\u001b[0m \u001b[1;32mis\u001b[0m \u001b[1;32mNone\u001b[0m\u001b[1;33m:\u001b[0m\u001b[1;33m\u001b[0m\u001b[1;33m\u001b[0m\u001b[0m\n",
      "\u001b[0m\u001b[1;32m     28 \u001b[1;33m        \u001b[0mprint\u001b[0m\u001b[1;33m(\u001b[0m\u001b[1;34m\"Not connected.\"\u001b[0m\u001b[1;33m)\u001b[0m\u001b[1;33m\u001b[0m\u001b[1;33m\u001b[0m\u001b[0m\n",
      "\u001b[0m\u001b[1;32m     29 \u001b[1;33m    \u001b[1;32melse\u001b[0m\u001b[1;33m:\u001b[0m\u001b[1;33m\u001b[0m\u001b[1;33m\u001b[0m\u001b[0m\n",
      "\u001b[0m\n"
     ]
    },
    {
     "name": "stdin",
     "output_type": "stream",
     "text": [
      "ipdb>  c\n"
     ]
    },
    {
     "name": "stdout",
     "output_type": "stream",
     "text": [
      "2 degrees of separation.\n",
      "1: Tom Hanks and Kevin Bacon starred in Apollo 13\n",
      "2: Kevin Bacon and Tom Cruise starred in A Few Good Men\n"
     ]
    }
   ],
   "source": [
    "main()"
   ]
  },
  {
   "cell_type": "code",
   "execution_count": null,
   "id": "possible-refrigerator",
   "metadata": {
    "tags": []
   },
   "outputs": [],
   "source": []
  }
 ],
 "metadata": {
  "kernelspec": {
   "display_name": "Python 3",
   "language": "python",
   "name": "python3"
  },
  "language_info": {
   "codemirror_mode": {
    "name": "ipython",
    "version": 3
   },
   "file_extension": ".py",
   "mimetype": "text/x-python",
   "name": "python",
   "nbconvert_exporter": "python",
   "pygments_lexer": "ipython3",
   "version": "3.9.2"
  }
 },
 "nbformat": 4,
 "nbformat_minor": 5
}
