{
 "cells": [
  {
   "cell_type": "code",
   "execution_count": 238,
   "id": "answering-entertainment",
   "metadata": {},
   "outputs": [
    {
     "name": "stdout",
     "output_type": "stream",
     "text": [
      "C:\\Users\\wangj337\\Google Drive\\Courses\\IntroAI-CS50\\3Optimization\\crossword\n"
     ]
    },
    {
     "name": "stderr",
     "output_type": "stream",
     "text": [
      "[NbConvertApp] Converting notebook scratch.ipynb to script\n",
      "[NbConvertApp] Writing 22452 bytes to generate.py\n"
     ]
    }
   ],
   "source": [
    "%cd \"C:/Users/wangj337/Google Drive/Courses/IntroAI-CS50/3Optimization/crossword\"\n",
    "# !jupyter nbconvert --to script \"scratch.ipynb\" --output generate"
   ]
  },
  {
   "cell_type": "code",
   "execution_count": 240,
   "id": "acceptable-strike",
   "metadata": {},
   "outputs": [
    {
     "name": "stdout",
     "output_type": "stream",
     "text": [
      "██████████████\n",
      "███████M████R█\n",
      "█INTELLIGENCE█\n",
      "█N█████N████S█\n",
      "█F██LOGIC███O█\n",
      "█E█████M████L█\n",
      "█R███SEARCH█V█\n",
      "███████X████E█\n",
      "██████████████\n"
     ]
    }
   ],
   "source": [
    "%run generate.py data/structure1.txt data/words1.txt output.png"
   ]
  },
  {
   "cell_type": "code",
   "execution_count": 5,
   "id": "false-listing",
   "metadata": {},
   "outputs": [],
   "source": [
    "# %load crossword.py\n",
    "class Variable():\n",
    "\n",
    "    ACROSS = \"across\"\n",
    "    DOWN = \"down\"\n",
    "\n",
    "    def __init__(self, i, j, direction, length):\n",
    "        \"\"\"Create a new variable with starting point, direction, and length.\"\"\"\n",
    "        self.i = i\n",
    "        self.j = j\n",
    "        self.direction = direction\n",
    "        self.length = length\n",
    "        self.cells = []\n",
    "        for k in range(self.length):\n",
    "            self.cells.append(\n",
    "                (self.i + (k if self.direction == Variable.DOWN else 0),\n",
    "                 self.j + (k if self.direction == Variable.ACROSS else 0))\n",
    "            )\n",
    "\n",
    "    def __hash__(self):\n",
    "        # The hash() method returns the hash value of an object if it has one.\n",
    "        # Hash values are just integers that are used to compare dictionary keys\n",
    "        # during a dictionary lookup quickly.\n",
    "        return hash((self.i, self.j, self.direction, self.length))\n",
    "\n",
    "    def __eq__(self, other):\n",
    "        return (\n",
    "            (self.i == other.i) and\n",
    "            (self.j == other.j) and\n",
    "            (self.direction == other.direction) and\n",
    "            (self.length == other.length)\n",
    "        )\n",
    "\n",
    "    def __str__(self):\n",
    "        return f\"({self.i}, {self.j}) {self.direction} : {self.length}\"\n",
    "\n",
    "    def __repr__(self):\n",
    "        # The repr() function returns a printable representation of the given object.\n",
    "        direction = repr(self.direction)\n",
    "        return f\"Variable({self.i}, {self.j}, {direction}, {self.length})\"\n",
    "\n",
    "# str() is used for creating output for end user while repr() is mainly used \n",
    "# for debugging and development. repr’s goal is to be unambiguous and str’s \n",
    "# is to be readable. For example, if we suspect a float has a small rounding \n",
    "# error, repr will show us while str may not.\n",
    "# repr() compute the “official” string representation of an object (a representation \n",
    "# that has all information about the object) and str() is used to compute the \n",
    "# “informal” string representation of an object (a representation that is useful \n",
    "# for printing the object).\n",
    "# The print statement and str() built-in function uses __str__ to display the \n",
    "# string representation of the object while the repr() built-in function uses\n",
    "# __repr__ to display the object."
   ]
  },
  {
   "cell_type": "code",
   "execution_count": 3,
   "id": "ultimate-garage",
   "metadata": {},
   "outputs": [
    {
     "name": "stdout",
     "output_type": "stream",
     "text": [
      "Hash for 181 is: 181\n",
      "Hash for 181.23 is: 530343892119126197\n",
      "Hash for Python is: -4471743895322528379\n"
     ]
    }
   ],
   "source": [
    "# hash for integer unchanged\n",
    "print('Hash for 181 is:', hash(181))\n",
    "\n",
    "# hash for decimal\n",
    "print('Hash for 181.23 is:',hash(181.23))\n",
    "\n",
    "# hash for string\n",
    "print('Hash for Python is:', hash('Python'))"
   ]
  },
  {
   "cell_type": "code",
   "execution_count": 6,
   "id": "social-resolution",
   "metadata": {},
   "outputs": [
    {
     "name": "stdout",
     "output_type": "stream",
     "text": [
      "(2, 1) down : 5\n",
      "(2, 1) down : 5\n",
      "Variable(2, 1, 'down', 5)\n"
     ]
    }
   ],
   "source": [
    "test = Variable(2, 1, \"down\", 5)\n",
    "print(test)\n",
    "print(str(test))\n",
    "print(repr(test))"
   ]
  },
  {
   "cell_type": "code",
   "execution_count": null,
   "id": "architectural-guest",
   "metadata": {},
   "outputs": [],
   "source": [
    "class Crossword():\n",
    "\n",
    "    def __init__(self, structure_file, words_file):\n",
    "\n",
    "        # Determine structure of crossword\n",
    "        with open(structure_file) as f:\n",
    "            contents = f.read().splitlines()\n",
    "            self.height = len(contents)\n",
    "            self.width = max(len(line) for line in contents)\n",
    "\n",
    "            self.structure = []\n",
    "            for i in range(self.height):\n",
    "                row = []\n",
    "                for j in range(self.width):\n",
    "                    if j >= len(contents[i]):\n",
    "                        row.append(False)\n",
    "                    elif contents[i][j] == \"_\":\n",
    "                        row.append(True)\n",
    "                    else:\n",
    "                        row.append(False)\n",
    "                self.structure.append(row)\n",
    "\n",
    "        # Save vocabulary list\n",
    "        with open(words_file) as f:\n",
    "            self.words = set(f.read().upper().splitlines())\n",
    "\n",
    "        # Determine variable set\n",
    "        self.variables = set()\n",
    "        for i in range(self.height):\n",
    "            for j in range(self.width):\n",
    "\n",
    "                # Vertical words\n",
    "                starts_word = (\n",
    "                    self.structure[i][j]\n",
    "                    and (i == 0 or not self.structure[i - 1][j])\n",
    "                )\n",
    "                # A vertical variable starts at (i, j) is equivalent to the following:\n",
    "                # 1) (i, j) is a blank entry\n",
    "                # 2) (i, j) is already at the top of the row OR (i-1, j) is not blank\n",
    "                \n",
    "                if starts_word:\n",
    "                    length = 1\n",
    "                    for k in range(i + 1, self.height):\n",
    "                        if self.structure[k][j]:\n",
    "                            length += 1\n",
    "                        else:\n",
    "                            break\n",
    "                    if length > 1: # if length > 1, then we are sure it is down, not across\n",
    "                        self.variables.add(Variable(\n",
    "                            i=i, j=j,\n",
    "                            direction=Variable.DOWN,\n",
    "                            length=length\n",
    "                        ))\n",
    "\n",
    "                # Horizontal words\n",
    "                starts_word = (\n",
    "                    self.structure[i][j]\n",
    "                    and (j == 0 or not self.structure[i][j - 1])\n",
    "                )\n",
    "                if starts_word:\n",
    "                    length = 1\n",
    "                    for k in range(j + 1, self.width):\n",
    "                        if self.structure[i][k]:\n",
    "                            length += 1\n",
    "                        else:\n",
    "                            break\n",
    "                    if length > 1:\n",
    "                        self.variables.add(Variable(\n",
    "                            i=i, j=j,\n",
    "                            direction=Variable.ACROSS,\n",
    "                            length=length\n",
    "                        ))\n",
    "\n",
    "        # Compute overlaps for each word\n",
    "        # For any pair of variables v1, v2, their overlap is either:\n",
    "        #    None, if the two variables do not overlap; or\n",
    "        #    (i, j), where v1's ith character overlaps v2's jth character\n",
    "        self.overlaps = dict()\n",
    "        for v1 in self.variables:\n",
    "            for v2 in self.variables:\n",
    "                if v1 == v2:\n",
    "                    continue\n",
    "                cells1 = v1.cells\n",
    "                cells2 = v2.cells\n",
    "                intersection = set(cells1).intersection(cells2)\n",
    "                if not intersection:\n",
    "                    self.overlaps[v1, v2] = None\n",
    "                else:\n",
    "                    intersection = intersection.pop()\n",
    "                    self.overlaps[v1, v2] = (\n",
    "                        cells1.index(intersection),\n",
    "                        cells2.index(intersection)\n",
    "                    )\n",
    "\n",
    "    def neighbors(self, var):\n",
    "        \"\"\"Given a variable, return set of overlapping variables.\"\"\"\n",
    "        return set(\n",
    "            v for v in self.variables\n",
    "            if v != var and self.overlaps[v, var]\n",
    "        )\n"
   ]
  },
  {
   "cell_type": "code",
   "execution_count": 233,
   "id": "second-expense",
   "metadata": {
    "tags": []
   },
   "outputs": [],
   "source": [
    "# %load generate.py\n",
    "import sys\n",
    "import copy\n",
    "import itertools\n",
    "\n",
    "from crossword import *\n",
    "\n",
    "\n",
    "class CrosswordCreator():\n",
    "\n",
    "    def __init__(self, crossword):\n",
    "        \"\"\"\n",
    "        Create new CSP crossword generate.\n",
    "        \"\"\"\n",
    "        self.crossword = crossword\n",
    "        self.domains = {\n",
    "            var: self.crossword.words.copy()\n",
    "            for var in self.crossword.variables\n",
    "            # initial domain for each var in variables is the full list of words\n",
    "        }\n",
    "\n",
    "    #？？？？？ need to understand after have a legit assignment!!\n",
    "    def letter_grid(self, assignment):\n",
    "        \"\"\"\n",
    "        Return 2D array representing a given assignment.\n",
    "        \"\"\"\n",
    "        letters = [\n",
    "            [None for _ in range(self.crossword.width)]\n",
    "            for _ in range(self.crossword.height)     \n",
    "        ]\n",
    "        for variable, word in assignment.items():\n",
    "            direction = variable.direction\n",
    "            for k in range(len(word)):\n",
    "                i = variable.i + (k if direction == Variable.DOWN else 0)\n",
    "                j = variable.j + (k if direction == Variable.ACROSS else 0)\n",
    "                letters[i][j] = word[k]\n",
    "        return letters\n",
    "\n",
    "    def print(self, assignment):\n",
    "        \"\"\"\n",
    "        Print crossword assignment to the terminal.\n",
    "        \"\"\"\n",
    "        letters = self.letter_grid(assignment)\n",
    "        for i in range(self.crossword.height):\n",
    "            for j in range(self.crossword.width):\n",
    "                if self.crossword.structure[i][j]:\n",
    "                    print(letters[i][j] or \" \", end=\"\")\n",
    "                else:\n",
    "                    print(\"█\", end=\"\")\n",
    "            print()\n",
    "\n",
    "    def save(self, assignment, filename):\n",
    "        \"\"\"\n",
    "        Save crossword assignment to an image file.\n",
    "        \"\"\"\n",
    "        from PIL import Image, ImageDraw, ImageFont\n",
    "        cell_size = 100\n",
    "        cell_border = 2\n",
    "        interior_size = cell_size - 2 * cell_border\n",
    "        letters = self.letter_grid(assignment)\n",
    "\n",
    "        # Create a blank canvas\n",
    "        img = Image.new(\n",
    "            \"RGBA\",\n",
    "            (self.crossword.width * cell_size,\n",
    "             self.crossword.height * cell_size),\n",
    "            \"black\"\n",
    "        )\n",
    "        font = ImageFont.truetype(\"assets/fonts/OpenSans-Regular.ttf\", 80)\n",
    "        draw = ImageDraw.Draw(img)\n",
    "\n",
    "        for i in range(self.crossword.height):\n",
    "            for j in range(self.crossword.width):\n",
    "\n",
    "                rect = [\n",
    "                    (j * cell_size + cell_border,\n",
    "                     i * cell_size + cell_border),\n",
    "                    ((j + 1) * cell_size - cell_border,\n",
    "                     (i + 1) * cell_size - cell_border)\n",
    "                ]\n",
    "                if self.crossword.structure[i][j]:\n",
    "                    draw.rectangle(rect, fill=\"white\")\n",
    "                    if letters[i][j]:\n",
    "                        w, h = draw.textsize(letters[i][j], font=font)\n",
    "                        draw.text(\n",
    "                            (rect[0][0] + ((interior_size - w) / 2),\n",
    "                             rect[0][1] + ((interior_size - h) / 2) - 10),\n",
    "                            letters[i][j], fill=\"black\", font=font\n",
    "                        )\n",
    "\n",
    "        img.save(filename)\n",
    "\n",
    "    def solve(self):\n",
    "        \"\"\"\n",
    "        Enforce node and arc consistency, and then solve the CSP.\n",
    "        \"\"\"\n",
    "        self.enforce_node_consistency()\n",
    "        self.ac3()\n",
    "        return self.backtrack(dict())\n",
    "\n",
    "    def enforce_node_consistency(self):\n",
    "        \"\"\"\n",
    "        Update `self.domains` such that each variable is node-consistent.\n",
    "        (Remove any values that are inconsistent with a variable's unary\n",
    "         constraints; in this case, the length of the word.)\n",
    "        \"\"\"\n",
    "        # To remove a value x from the domain of a variable v, since \n",
    "        # self.domains is a dictionary mapping variables to sets of values, \n",
    "        # you can call self.domains[v].remove(x).\n",
    "        temp_domain = copy.deepcopy(self.domains)\n",
    "        \n",
    "        for var in self.crossword.variables:\n",
    "            for word in temp_domain[var]:\n",
    "                if len(word) != var.length:\n",
    "                    self.domains[var].remove(word)\n",
    "                # set_trace()\n",
    "        \n",
    "        # No return value is necessary for this function. (Because remove\n",
    "        # is operating on the self.domains directly.)\n",
    "\n",
    "    def revise(self, x, y):\n",
    "        \"\"\"\n",
    "        Make variable `x` arc consistent with variable `y`.\n",
    "        To do so, remove values from `self.domains[x]` for which there is no\n",
    "        possible corresponding value for `y` in `self.domains[y]`.\n",
    "\n",
    "        Return True if a revision was made to the domain of `x`; return\n",
    "        False if no revision was made.\n",
    "        \"\"\"\n",
    "        \n",
    "        # x and y: both be Variable objects representing variables in the puzzle.\n",
    "        # x arc consistent with y when every value in the domain of x \n",
    "        # has a possible value in the domain of y that does not cause a conflict. \n",
    "        \n",
    "        flag = False\n",
    "        if(self.crossword.overlaps[(x, y)]):\n",
    "            #set_trace()\n",
    "            (ii, jj) = self.crossword.overlaps[(x, y)] \n",
    "            # i'th place in x needs to be the same as j'th place in y\n",
    "            temp = copy.deepcopy(self.domains[x])\n",
    "            for word1 in temp:\n",
    "                # remove values from `self.domains[x]` for which there is no\n",
    "                # possible corresponding value for `y` in `self.domains[y]`.\n",
    "                # The domain of y should be left unmodified.\n",
    "                if(all(word2[jj] != word1[ii] for word2 in self.domains[y])):\n",
    "                    flag = True\n",
    "                    self.domains[x].remove(word1)          \n",
    "        \n",
    "        # Return True if a revision was made to the domain of `x`; return\n",
    "        # False if no revision was made.\n",
    "        return(flag)\n",
    "\n",
    "        \n",
    "        ########## Question: #######################################################\n",
    "        # Do we need to revoke the revise at some point later? Should it be operated \n",
    "        # on a copy instead of the original self?\n",
    "        ############################################################################\n",
    "             \n",
    "\n",
    "    def ac3(self, arcs=None):\n",
    "        \"\"\"\n",
    "        Update `self.domains` such that each variable is arc consistent.\n",
    "        If `arcs` is None, begin with initial list of all arcs in the problem.\n",
    "        Otherwise, use `arcs` as the initial list of arcs to make consistent.\n",
    "\n",
    "        Return True if arc consistency is enforced and no domains are empty;\n",
    "        return False if one or more domains end up empty.\n",
    "        \"\"\"\n",
    "        # The ac3 function should, using the AC3 algorithm, enforce arc consistency on the problem. \n",
    "        # Arc consistency is achieved when all the values in each variable’s domain \n",
    "        # satisfy that variable’s binary constraints.\n",
    "\n",
    "        # If arcs is None, start with an initial queue of all of the arcs in the problem. \n",
    "        # Otherwise, start with an initial queue of only the arcs in the list arcs \n",
    "        # (where each arc is a tuple (x, y) of a variable x and a different variable y).\n",
    "        if not arcs:\n",
    "            arcs = list(itertools.permutations(self.crossword.variables, 2))\n",
    "        #set_trace()\n",
    "        \n",
    "        while arcs:\n",
    "            # stop when all arcs have been enforced the arc consistency criteria \n",
    "            x, y = arcs.pop(0)\n",
    "            #set_trace()\n",
    "            # revise each arc in the queue one at a time\n",
    "            revised = self.revise(x, y)\n",
    "            if revised:\n",
    "                # Any time you make a change to a domain, need to add additional \n",
    "                # arcs to your queue to ensure that other arcs stay consistent.\n",
    "                if len(self.domains[x]) == 0:\n",
    "                    # return False if one or more domains end up empty.\n",
    "                    return False\n",
    "                for z in self.crossword.variables:\n",
    "                    if z == y or z == x:\n",
    "                        continue\n",
    "                    elif self.crossword.overlaps[(z, x)]:\n",
    "                        arcs.append((z, x))\n",
    "\n",
    "        # Return True if arc consistency is enforced and no domains are empty\n",
    "        return True\n",
    "        \n",
    "        # You do not need to worry about enforcing word uniqueness in this function \n",
    "        # (you’ll implement that check in the consistent function.)\n",
    "\n",
    "    def assignment_complete(self, assignment):\n",
    "        \"\"\"\n",
    "        Return True if `assignment` is complete (i.e., assigns a value to each\n",
    "        crossword variable); return False otherwise.\n",
    "        \"\"\"\n",
    "        # An assignment is a dictionary where the keys are Variable objects and \n",
    "        # the values are strings representing the words those variables will take on.\n",
    "        \n",
    "        # complete if a value is assigned to each key (regardless of what that value is).\n",
    "        if len(assignment) == len(self.crossword.variables):\n",
    "            return True\n",
    "        else:\n",
    "            return False\n",
    "        \n",
    "    def consistent(self, assignment):\n",
    "        \"\"\"\n",
    "        Return True if `assignment` is consistent (i.e., words fit in crossword\n",
    "        puzzle without conflicting characters); return False otherwise.\n",
    "        \"\"\"\n",
    "        for (x, y) in self.crossword.overlaps:\n",
    "            # Only consider if there is non-empty overlap\n",
    "            if self.crossword.overlaps[(x, y)]:    \n",
    "                # Only consider arcs where both are assigned\n",
    "                if x not in assignment or y not in assignment:\n",
    "                    continue\n",
    "                (ii, jj) = self.crossword.overlaps[(x, y)]\n",
    "                # If both have same value, then not consistent\n",
    "                if assignment[x][ii] != assignment[y][jj]:\n",
    "                    return False\n",
    "\n",
    "        # If nothing inconsistent, then assignment is consistent\n",
    "        return True\n",
    "\n",
    "    def order_domain_values(self, var, assignment):\n",
    "        \"\"\"\n",
    "        Return a list of values in the domain of `var`, in order by\n",
    "        the number of values they rule out for neighboring variables.\n",
    "        The first value in the list, for example, should be the one\n",
    "        that rules out the fewest values among the neighbors of `var`.\n",
    "        \"\"\"\n",
    "    \n",
    "        rule_out = dict()\n",
    "        \n",
    "        for value in self.domains[var]:\n",
    "            n = 0\n",
    "            # least-constraining values heuristic: the number of values ruled out for neighboring unassigned variables. \n",
    "            for neighbor in self.crossword.variables:\n",
    "                # will not count the neighbors that already has an assignment\n",
    "                if neighbor not in assignment:\n",
    "                    # will not count if not neighbors\n",
    "                    if self.crossword.overlaps([var, neighbor]):                  \n",
    "                        (ii, jj) = self.crossword.overlaps([var, neighbor])\n",
    "                        for neighbor_value in self.domains[neighbor]:\n",
    "                            if value[ii] != neighbor_value[jj]:\n",
    "                                n += 1\n",
    "            rule_out[value] = n\n",
    "        \n",
    "        # you should order your results in ascending order of n.\n",
    "        result = sorted(rule_out, key=lambda item: rule_out[item])\n",
    "\n",
    "        # return a list of all of the values in the domain of var, ordered according to the \n",
    "        # least-constraining values heuristic\n",
    "        return list(result)\n",
    "\n",
    "    def select_unassigned_variable(self, assignment):\n",
    "        \"\"\"\n",
    "        Return an unassigned variable not already part of `assignment`.\n",
    "        Choose the variable with the minimum number of remaining values\n",
    "        in its domain. If there is a tie, choose the variable with the highest\n",
    "        degree. If there is a tie, any of the tied variables are acceptable\n",
    "        return values.\n",
    "        \"\"\"\n",
    "        heuristic = dict()\n",
    "        \n",
    "        for i in self.crossword.variables:\n",
    "            if i not in assignment:\n",
    "                # minimum remaining value heuristic: the fewest number of remaining values in its domain\n",
    "                remains = len(self.domains[i])\n",
    "                # the degree heuristic: the largest degree (has the most neighbors)\n",
    "                degrees = len(self.crossword.neighbors(i))         \n",
    "                heuristic[i] = (remains, -degrees)\n",
    "                \n",
    "        if heuristic:\n",
    "            heuristic = sorted(heuristic, key=lambda item: heuristic[item])\n",
    "            return heuristic[0]\n",
    "        else:\n",
    "            return None\n",
    "     \n",
    "    \n",
    "    def backtrack(self, assignment):\n",
    "        \"\"\"\n",
    "        Using Backtracking Search, take as input a partial assignment for the\n",
    "        crossword and return a complete assignment if possible to do so.\n",
    "\n",
    "        `assignment` is a mapping from variables (keys) to words (values).\n",
    "\n",
    "        If no assignment is possible, return None.\n",
    "        \"\"\"\n",
    "        # Check if assignment is complete\n",
    "        if len(assignment) == len(self.crossword.variables):\n",
    "            return assignment\n",
    "        # Try a new variable\n",
    "        var = self.select_unassigned_variable(assignment)\n",
    "        for value in self.domains[var]:\n",
    "            new_assignment = assignment.copy()\n",
    "            new_assignment[var] = value\n",
    "            if self.consistent(new_assignment):\n",
    "                result = self.backtrack(new_assignment)\n",
    "                if result is not None: \n",
    "                    return result\n",
    "        return None"
   ]
  },
  {
   "cell_type": "code",
   "execution_count": 216,
   "id": "funny-drinking",
   "metadata": {},
   "outputs": [
    {
     "name": "stdout",
     "output_type": "stream",
     "text": [
      "print crossword\n",
      "5\n",
      "5\n",
      "(1, 4) down : 4\n",
      "4\n",
      "{'SEVEN', 'ONE', 'FOUR', 'SIX', 'FIVE', 'THREE', 'NINE', 'TEN', 'EIGHT', 'TWO'}\n",
      "{(Variable(4, 1, 'across', 4), Variable(0, 1, 'across', 3)): None, (Variable(4, 1, 'across', 4), Variable(0, 1, 'down', 5)): (0, 4), (Variable(4, 1, 'across', 4), Variable(1, 4, 'down', 4)): (3, 3), (Variable(0, 1, 'across', 3), Variable(4, 1, 'across', 4)): None, (Variable(0, 1, 'across', 3), Variable(0, 1, 'down', 5)): (0, 0), (Variable(0, 1, 'across', 3), Variable(1, 4, 'down', 4)): None, (Variable(0, 1, 'down', 5), Variable(4, 1, 'across', 4)): (4, 0), (Variable(0, 1, 'down', 5), Variable(0, 1, 'across', 3)): (0, 0), (Variable(0, 1, 'down', 5), Variable(1, 4, 'down', 4)): None, (Variable(1, 4, 'down', 4), Variable(4, 1, 'across', 4)): (3, 3), (Variable(1, 4, 'down', 4), Variable(0, 1, 'across', 3)): None, (Variable(1, 4, 'down', 4), Variable(0, 1, 'down', 5)): None}\n",
      "[]\n"
     ]
    }
   ],
   "source": [
    "from IPython.core.debugger import set_trace\n",
    "\n",
    "structure = \"data/structure0.txt\" \n",
    "words = \"data/words0.txt\"\n",
    "\n",
    "# Generate crossword\n",
    "crossword = Crossword(structure, words)\n",
    "creator = CrosswordCreator(copy.deepcopy(crossword))\n",
    "x = crossword.variables.pop()\n",
    "y1 = crossword.variables.pop()\n",
    "y = crossword.variables.pop()\n",
    "\n",
    "print(\"print crossword\")\n",
    "print(crossword.height)\n",
    "print(crossword.width)\n",
    "for i in crossword.variables:\n",
    "    print(i)\n",
    "    print(i.length)\n",
    "print(crossword.words)  \n",
    "print(crossword.overlaps)\n",
    "\n",
    "test = list(itertools.combinations(crossword.variables, 2))\n",
    "print(test)"
   ]
  },
  {
   "cell_type": "code",
   "execution_count": 234,
   "id": "intelligent-pantyhose",
   "metadata": {},
   "outputs": [
    {
     "name": "stdout",
     "output_type": "stream",
     "text": [
      "█SIX█\n",
      "█E██F\n",
      "█V██I\n",
      "█E██V\n",
      "█NINE\n"
     ]
    }
   ],
   "source": [
    "structure = \"data/structure0.txt\" \n",
    "words = \"data/words0.txt\"\n",
    "crossword = Crossword(structure, words)\n",
    "creator = CrosswordCreator(copy.deepcopy(crossword))\n",
    "\n",
    "assignment = creator.solve()\n",
    "assignment\n",
    "creator.print(assignment)\n",
    "creator.save(assignment, \"test0.png\")"
   ]
  },
  {
   "cell_type": "code",
   "execution_count": 235,
   "id": "varied-password",
   "metadata": {},
   "outputs": [
    {
     "name": "stdout",
     "output_type": "stream",
     "text": [
      "██████████████\n",
      "███████M████R█\n",
      "█INTELLIGENCE█\n",
      "█N█████N████S█\n",
      "█F██LOGIC███O█\n",
      "█E█████M████L█\n",
      "█R███SEARCH█V█\n",
      "███████X████E█\n",
      "██████████████\n"
     ]
    }
   ],
   "source": [
    "structure = \"data/structure1.txt\" \n",
    "words = \"data/words1.txt\"\n",
    "crossword = Crossword(structure, words)\n",
    "creator = CrosswordCreator(copy.deepcopy(crossword))\n",
    "\n",
    "assignment = creator.solve()\n",
    "assignment\n",
    "creator.print(assignment)\n",
    "creator.save(assignment, \"test1.png\")"
   ]
  },
  {
   "cell_type": "code",
   "execution_count": 236,
   "id": "pharmaceutical-jones",
   "metadata": {},
   "outputs": [
    {
     "name": "stdout",
     "output_type": "stream",
     "text": [
      "██████M\n",
      "SHOE██O\n",
      "H██NEED\n",
      "O██E██E\n",
      "E██M██R\n",
      "█PAY██N\n"
     ]
    }
   ],
   "source": [
    "structure = \"data/structure2.txt\" \n",
    "words = \"data/words2.txt\"\n",
    "crossword = Crossword(structure, words)\n",
    "creator = CrosswordCreator(copy.deepcopy(crossword))\n",
    "\n",
    "assignment = creator.solve()\n",
    "assignment\n",
    "creator.print(assignment)\n",
    "creator.save(assignment, \"test2.png\")"
   ]
  },
  {
   "cell_type": "code",
   "execution_count": 140,
   "id": "animal-engine",
   "metadata": {
    "collapsed": true,
    "jupyter": {
     "outputs_hidden": true
    },
    "tags": []
   },
   "outputs": [
    {
     "name": "stdout",
     "output_type": "stream",
     "text": [
      "(4, 1) across : 4\n",
      "(0, 1) down : 5\n",
      "0\n",
      "4\n",
      "(4, 1)\n",
      "(4, 1)\n",
      "yes\n"
     ]
    }
   ],
   "source": [
    "print(x)\n",
    "print(y)\n",
    "i, j = crossword.overlaps[(x, y)]\n",
    "print(i)\n",
    "print(j)\n",
    "print(x.cells[i])\n",
    "print(y.cells[j])\n",
    "if(crossword.overlaps[(x, y)]):\n",
    "    print(\"yes\")\n",
    "\n",
    "if(crossword.overlaps[(x, y1)]):\n",
    "    print(\"yes\")"
   ]
  },
  {
   "cell_type": "code",
   "execution_count": 117,
   "id": "everyday-combining",
   "metadata": {
    "collapsed": true,
    "jupyter": {
     "outputs_hidden": true,
     "source_hidden": true
    },
    "tags": []
   },
   "outputs": [
    {
     "name": "stdout",
     "output_type": "stream",
     "text": [
      "print creator\n",
      "(0, 1) down : 5\n",
      "(0, 1) across : 3\n",
      "(1, 4) down : 4\n",
      "(4, 1) across : 4\n",
      "{Variable(0, 1, 'down', 5): {'SEVEN', 'ONE', 'FOUR', 'SIX', 'FIVE', 'THREE', 'NINE', 'TEN', 'EIGHT', 'TWO'}, Variable(0, 1, 'across', 3): {'SEVEN', 'ONE', 'FOUR', 'SIX', 'FIVE', 'THREE', 'NINE', 'TEN', 'EIGHT', 'TWO'}, Variable(1, 4, 'down', 4): {'SEVEN', 'ONE', 'FOUR', 'SIX', 'FIVE', 'THREE', 'NINE', 'TEN', 'EIGHT', 'TWO'}, Variable(4, 1, 'across', 4): {'SEVEN', 'ONE', 'FOUR', 'SIX', 'FIVE', 'THREE', 'NINE', 'TEN', 'EIGHT', 'TWO'}}\n",
      "4\n"
     ]
    }
   ],
   "source": [
    "print(\"print creator\")\n",
    "for i in creator.crossword.variables:\n",
    "    print(i)    \n",
    "print(creator.domains)\n",
    "print(len(creator.domains))"
   ]
  },
  {
   "cell_type": "code",
   "execution_count": 154,
   "id": "unusual-wound",
   "metadata": {
    "collapsed": true,
    "jupyter": {
     "outputs_hidden": true,
     "source_hidden": true
    },
    "tags": []
   },
   "outputs": [
    {
     "name": "stdout",
     "output_type": "stream",
     "text": [
      "{Variable(0, 1, 'down', 5): {'SEVEN', 'THREE', 'EIGHT'}, Variable(0, 1, 'across', 3): {'ONE', 'SIX', 'TEN', 'TWO'}, Variable(1, 4, 'down', 4): {'FOUR', 'FIVE', 'NINE'}, Variable(4, 1, 'across', 4): {'FOUR', 'FIVE', 'NINE'}}\n",
      "(4, 1) across : 4\n",
      "(0, 1) down : 5\n",
      "{'FOUR', 'FIVE', 'NINE'}\n",
      "{'SEVEN', 'THREE', 'EIGHT'}\n"
     ]
    }
   ],
   "source": [
    "creator.enforce_node_consistency()  \n",
    "print(creator.domains)\n",
    "print(x)\n",
    "print(y)\n",
    "print(creator.domains[x])\n",
    "print(creator.domains[y])\n",
    "#print(len(creator.domains[x]))\n",
    "#print(len(creator.domains[y]))"
   ]
  },
  {
   "cell_type": "code",
   "execution_count": 170,
   "id": "visible-locator",
   "metadata": {
    "tags": []
   },
   "outputs": [
    {
     "name": "stdout",
     "output_type": "stream",
     "text": [
      "> \u001b[1;32m<ipython-input-166-3abebb056dae>\u001b[0m(138)\u001b[0;36mrevise\u001b[1;34m()\u001b[0m\n",
      "\u001b[1;32m    136 \u001b[1;33m        \u001b[1;32mif\u001b[0m\u001b[1;33m(\u001b[0m\u001b[0mself\u001b[0m\u001b[1;33m.\u001b[0m\u001b[0mcrossword\u001b[0m\u001b[1;33m.\u001b[0m\u001b[0moverlaps\u001b[0m\u001b[1;33m[\u001b[0m\u001b[1;33m(\u001b[0m\u001b[0mx\u001b[0m\u001b[1;33m,\u001b[0m \u001b[0my\u001b[0m\u001b[1;33m)\u001b[0m\u001b[1;33m]\u001b[0m\u001b[1;33m)\u001b[0m\u001b[1;33m:\u001b[0m\u001b[1;33m\u001b[0m\u001b[1;33m\u001b[0m\u001b[0m\n",
      "\u001b[0m\u001b[1;32m    137 \u001b[1;33m            \u001b[0mset_trace\u001b[0m\u001b[1;33m(\u001b[0m\u001b[1;33m)\u001b[0m\u001b[1;33m\u001b[0m\u001b[1;33m\u001b[0m\u001b[0m\n",
      "\u001b[0m\u001b[1;32m--> 138 \u001b[1;33m            \u001b[1;33m(\u001b[0m\u001b[0mii\u001b[0m\u001b[1;33m,\u001b[0m \u001b[0mjj\u001b[0m\u001b[1;33m)\u001b[0m \u001b[1;33m=\u001b[0m \u001b[0mself\u001b[0m\u001b[1;33m.\u001b[0m\u001b[0mcrossword\u001b[0m\u001b[1;33m.\u001b[0m\u001b[0moverlaps\u001b[0m\u001b[1;33m[\u001b[0m\u001b[1;33m(\u001b[0m\u001b[0mx\u001b[0m\u001b[1;33m,\u001b[0m \u001b[0my\u001b[0m\u001b[1;33m)\u001b[0m\u001b[1;33m]\u001b[0m\u001b[1;33m\u001b[0m\u001b[1;33m\u001b[0m\u001b[0m\n",
      "\u001b[0m\u001b[1;32m    139 \u001b[1;33m            \u001b[1;31m# i'th place in x needs to be the same as j'th place in y\u001b[0m\u001b[1;33m\u001b[0m\u001b[1;33m\u001b[0m\u001b[1;33m\u001b[0m\u001b[0m\n",
      "\u001b[0m\u001b[1;32m    140 \u001b[1;33m            \u001b[0mtemp\u001b[0m \u001b[1;33m=\u001b[0m \u001b[0mcopy\u001b[0m\u001b[1;33m.\u001b[0m\u001b[0mdeepcopy\u001b[0m\u001b[1;33m(\u001b[0m\u001b[0mself\u001b[0m\u001b[1;33m.\u001b[0m\u001b[0mdomains\u001b[0m\u001b[1;33m[\u001b[0m\u001b[0mx\u001b[0m\u001b[1;33m]\u001b[0m\u001b[1;33m)\u001b[0m\u001b[1;33m\u001b[0m\u001b[1;33m\u001b[0m\u001b[0m\n",
      "\u001b[0m\n"
     ]
    },
    {
     "name": "stdin",
     "output_type": "stream",
     "text": [
      "ipdb>  c\n"
     ]
    },
    {
     "name": "stdout",
     "output_type": "stream",
     "text": [
      "{'NINE'}\n",
      "{'SEVEN', 'THREE', 'EIGHT'}\n"
     ]
    }
   ],
   "source": [
    "creator.revise(x, y)\n",
    "print(creator.domains[x])\n",
    "print(creator.domains[y])"
   ]
  },
  {
   "cell_type": "code",
   "execution_count": 169,
   "id": "average-fluid",
   "metadata": {
    "collapsed": true,
    "jupyter": {
     "outputs_hidden": true,
     "source_hidden": true
    },
    "tags": []
   },
   "outputs": [
    {
     "name": "stdout",
     "output_type": "stream",
     "text": [
      "{'FOUR', 'FIVE', 'NINE'}\n",
      "{'ONE', 'SIX', 'TEN', 'TWO'}\n"
     ]
    }
   ],
   "source": [
    "creator.revise(x, y1)\n",
    "print(creator.domains[x])\n",
    "print(creator.domains[y1])"
   ]
  },
  {
   "cell_type": "code",
   "execution_count": 204,
   "id": "directed-ability",
   "metadata": {},
   "outputs": [
    {
     "name": "stdout",
     "output_type": "stream",
     "text": [
      "{Variable(0, 1, 'down', 5): {'SEVEN'}, Variable(0, 1, 'across', 3): {'SIX'}, Variable(1, 4, 'down', 4): {'FIVE', 'NINE'}, Variable(4, 1, 'across', 4): {'NINE'}}\n",
      "{Variable(0, 1, 'down', 5): {'SEVEN'}, Variable(0, 1, 'across', 3): {'SIX'}, Variable(1, 4, 'down', 4): {'FIVE', 'NINE'}, Variable(4, 1, 'across', 4): {'NINE'}}\n"
     ]
    },
    {
     "data": {
      "text/plain": [
       "4"
      ]
     },
     "execution_count": 204,
     "metadata": {},
     "output_type": "execute_result"
    }
   ],
   "source": [
    "creator.enforce_node_consistency()  \n",
    "print(creator.domains)\n",
    "\n",
    "creator.ac3()\n",
    "print(creator.domains)"
   ]
  },
  {
   "cell_type": "code",
   "execution_count": null,
   "id": "cordless-idaho",
   "metadata": {},
   "outputs": [],
   "source": [
    "def main():\n",
    "\n",
    "    # Check usage\n",
    "    if len(sys.argv) not in [3, 4]:\n",
    "        sys.exit(\"Usage: python generate.py structure words [output]\")\n",
    "\n",
    "    # Parse command-line arguments\n",
    "    structure = sys.argv[1]\n",
    "    words = sys.argv[2]\n",
    "    output = sys.argv[3] if len(sys.argv) == 4 else None\n",
    "\n",
    "    # Generate crossword\n",
    "    crossword = Crossword(structure, words)\n",
    "    creator = CrosswordCreator(crossword)\n",
    "    assignment = creator.solve()\n",
    "\n",
    "    # Print result\n",
    "    if assignment is None:\n",
    "        print(\"No solution.\")\n",
    "    else:\n",
    "        creator.print(assignment)\n",
    "        if output:\n",
    "            creator.save(assignment, output)"
   ]
  },
  {
   "cell_type": "code",
   "execution_count": null,
   "id": "local-operation",
   "metadata": {},
   "outputs": [],
   "source": []
  },
  {
   "cell_type": "code",
   "execution_count": null,
   "id": "divine-bidding",
   "metadata": {},
   "outputs": [],
   "source": [
    "if __name__ == \"__main__\":\n",
    "    main()"
   ]
  }
 ],
 "metadata": {
  "kernelspec": {
   "display_name": "Python 3",
   "language": "python",
   "name": "python3"
  },
  "language_info": {
   "codemirror_mode": {
    "name": "ipython",
    "version": 3
   },
   "file_extension": ".py",
   "mimetype": "text/x-python",
   "name": "python",
   "nbconvert_exporter": "python",
   "pygments_lexer": "ipython3",
   "version": "3.9.2"
  }
 },
 "nbformat": 4,
 "nbformat_minor": 5
}
