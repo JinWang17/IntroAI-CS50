{
 "cells": [
  {
   "cell_type": "code",
   "execution_count": 1,
   "id": "focused-former",
   "metadata": {},
   "outputs": [
    {
     "name": "stdout",
     "output_type": "stream",
     "text": [
      "C:\\Users\\wangj337\\Google Drive\\Courses\\IntroAI-CS50\\4Learning\\shopping\n"
     ]
    }
   ],
   "source": [
    "%cd \"C:/Users/wangj337/Google Drive/Courses/IntroAI-CS50/4Learning/shopping\""
   ]
  },
  {
   "cell_type": "code",
   "execution_count": 83,
   "id": "straight-louisiana",
   "metadata": {},
   "outputs": [],
   "source": [
    "# %load shopping.py\n",
    "import csv\n",
    "import sys\n",
    "from pdb import set_trace\n",
    "from time import strptime\n",
    "\n",
    "from sklearn.model_selection import train_test_split\n",
    "from sklearn.neighbors import KNeighborsClassifier\n",
    "\n",
    "TEST_SIZE = 0.4\n",
    "\n",
    "\n",
    "def main():\n",
    "\n",
    "    # Check command-line arguments\n",
    "    if len(sys.argv) != 2:\n",
    "        sys.exit(\"Usage: python shopping.py data\")\n",
    "\n",
    "    # Load data from spreadsheet and split into train and test sets\n",
    "    evidence, labels = load_data(sys.argv[1])\n",
    "    X_train, X_test, y_train, y_test = train_test_split(\n",
    "        evidence, labels, test_size=TEST_SIZE\n",
    "    )\n",
    "\n",
    "    # Train model and make predictions\n",
    "    model = train_model(X_train, y_train)\n",
    "    predictions = model.predict(X_test)\n",
    "    sensitivity, specificity = evaluate(y_test, predictions)\n",
    "\n",
    "    # Print results\n",
    "    print(f\"Correct: {(y_test == predictions).sum()}\")\n",
    "    print(f\"Incorrect: {(y_test != predictions).sum()}\")\n",
    "    print(f\"True Positive Rate: {100 * sensitivity:.2f}%\")\n",
    "    print(f\"True Negative Rate: {100 * specificity:.2f}%\")\n",
    "\n",
    "\n",
    "def load_data(filename):\n",
    "    \"\"\"\n",
    "    Load shopping data from a CSV file `filename` and convert into a list of\n",
    "    evidence lists and a list of labels. Return a tuple (evidence, labels).\n",
    "\n",
    "    evidence should be a list of lists, where each list contains the\n",
    "    following values, in order:\n",
    "        - Administrative, an integer\n",
    "        - Administrative_Duration, a floating point number\n",
    "        - Informational, an integer\n",
    "        - Informational_Duration, a floating point number\n",
    "        - ProductRelated, an integer\n",
    "        - ProductRelated_Duration, a floating point number\n",
    "        - BounceRates, a floating point number\n",
    "        - ExitRates, a floating point number\n",
    "        - PageValues, a floating point number\n",
    "        - SpecialDay, a floating point number\n",
    "        - Month, an index from 0 (January) to 11 (December)\n",
    "        - OperatingSystems, an integer\n",
    "        - Browser, an integer\n",
    "        - Region, an integer\n",
    "        - TrafficType, an integer\n",
    "        - VisitorType, an integer 0 (not returning) or 1 (returning)\n",
    "        - Weekend, an integer 0 (if false) or 1 (if true)\n",
    "\n",
    "    \n",
    "    \"\"\"\n",
    "    with open(filename) as f:\n",
    "        reader = csv.reader(f)\n",
    "        next(reader)\n",
    "# why this indent??\n",
    "\n",
    "        evidence = []\n",
    "        labels = []\n",
    "        for row in reader:\n",
    "            temp = process(row)\n",
    "            evidence.append(temp)\n",
    "            labels.append(1 if row[17] == \"TRUE\" else 0)\n",
    "        \n",
    "    return(evidence, labels)\n",
    "\n",
    "\n",
    "def process(row):\n",
    "    \"\"\"\n",
    "    - Administrative, an integer\n",
    "    - Administrative_Duration, a floating point number\n",
    "    - Informational, an integer\n",
    "    - Informational_Duration, a floating point number\n",
    "    - ProductRelated, an integer\n",
    "    - ProductRelated_Duration, a floating point number\n",
    "    - BounceRates, a floating point number\n",
    "    - ExitRates, a floating point number\n",
    "    - PageValues, a floating point number\n",
    "    - SpecialDay, a floating point number\n",
    "    - Month, an index from 0 (January) to 11 (December)\n",
    "    - OperatingSystems, an integer\n",
    "    - Browser, an integer\n",
    "    - Region, an integer\n",
    "    - TrafficType, an integer\n",
    "    - VisitorType, an integer 0 (not returning) or 1 (returning)\n",
    "    - Weekend, an integer 0 (if false) or 1 (if true)\n",
    "    \"\"\"\n",
    "    temp = [float(cell) for cell in row[:9]]\n",
    "    temp[0] = int(temp[0])\n",
    "    temp[2] = int(temp[2])\n",
    "    temp[4] = int(temp[4])\n",
    "    if row[10] == \"June\":\n",
    "        row[10] = \"Jun\"\n",
    "    temp.append(strptime(row[10], \"%b\").tm_mon - 1)\n",
    "    temp.extend([int(cell) for cell in row[11:14]])\n",
    "    temp.append(1 if row[15] == \"Returning_Visitor\" else 0)\n",
    "    temp.append(1 if row[16] == \"TRUE\" else 0)\n",
    "    return(temp)\n",
    "\n",
    "def train_model(evidence, labels):\n",
    "    \"\"\"\n",
    "    Given a list of evidence lists and a list of labels, return a\n",
    "    fitted k-nearest neighbor model (k=1) trained on the data.\n",
    "    \"\"\"\n",
    "    model = KNeighborsClassifier(n_neighbors = 1) \n",
    "    model.fit(evidence, labels)\n",
    "    return(model)\n",
    "\n",
    "def evaluate(labels, predictions):\n",
    "    # y_test, predictions\n",
    "    \"\"\"\n",
    "    Given a list of actual labels and a list of predicted labels,\n",
    "    return a tuple (sensitivity, specificty).\n",
    "\n",
    "    Assume each label is either a 1 (positive) or 0 (negative).\n",
    "\n",
    "    `sensitivity` should be a floating-point value from 0 to 1\n",
    "    representing the \"true positive rate\": the proportion of\n",
    "    actual positive labels that were accurately identified.\n",
    "\n",
    "    `specificity` should be a floating-point value from 0 to 1\n",
    "    representing the \"true negative rate\": the proportion of\n",
    "    actual negative labels that were accurately identified.\n",
    "    \"\"\"\n",
    "    correct_pos = 0\n",
    "    correct_neg = 0\n",
    "    pos = 0\n",
    "    neg = 0\n",
    "\n",
    "    for actual, predicted in zip(labels, predictions):\n",
    "        if predicted == 1:\n",
    "            pos += 1\n",
    "            if actual == predicted:\n",
    "                correct_pos += 1\n",
    "        else:\n",
    "            neg += 1\n",
    "            if actual == predicted:\n",
    "                correct_neg += 1\n",
    "    #set_trace()            \n",
    "    sensitivity = correct_pos / pos\n",
    "    specificity = correct_neg / neg\n",
    "    return(sensitivity, specificity)"
   ]
  },
  {
   "cell_type": "code",
   "execution_count": null,
   "id": "blond-password",
   "metadata": {},
   "outputs": [],
   "source": [
    "if __name__ == \"__main__\":\n",
    "    main()"
   ]
  },
  {
   "cell_type": "code",
   "execution_count": 86,
   "id": "educated-gasoline",
   "metadata": {},
   "outputs": [
    {
     "name": "stdout",
     "output_type": "stream",
     "text": [
      "Correct: 4071\n",
      "Incorrect: 861\n",
      "True Positive Rate: 42.19%\n",
      "True Negative Rate: 89.47%\n"
     ]
    }
   ],
   "source": [
    "evidence, labels = load_data(\"shopping.csv\")\n",
    "X_train, X_test, y_train, y_test = train_test_split(\n",
    "    evidence, labels, test_size=TEST_SIZE\n",
    ")\n",
    "# Train model and make predictions\n",
    "model = train_model(X_train, y_train)\n",
    "predictions = model.predict(X_test)\n",
    "sensitivity, specificity = evaluate(y_test, predictions)\n",
    "# Print results\n",
    "print(f\"Correct: {(y_test == predictions).sum()}\")\n",
    "print(f\"Incorrect: {(y_test != predictions).sum()}\")\n",
    "print(f\"True Positive Rate: {100 * sensitivity:.2f}%\")\n",
    "print(f\"True Negative Rate: {100 * specificity:.2f}%\")"
   ]
  },
  {
   "cell_type": "code",
   "execution_count": 87,
   "id": "occupational-minnesota",
   "metadata": {},
   "outputs": [
    {
     "name": "stderr",
     "output_type": "stream",
     "text": [
      "[NbConvertApp] Converting notebook scratch.ipynb to script\n",
      "[NbConvertApp] Writing 5855 bytes to shopping.py\n"
     ]
    }
   ],
   "source": [
    "#!jupyter nbconvert --to script \"scratch.ipynb\" --output shopping"
   ]
  },
  {
   "cell_type": "code",
   "execution_count": 89,
   "id": "closed-huntington",
   "metadata": {},
   "outputs": [
    {
     "name": "stdout",
     "output_type": "stream",
     "text": [
      "Correct: 4110\n",
      "Incorrect: 822\n",
      "True Positive Rate: 44.68%\n",
      "True Negative Rate: 89.19%\n"
     ]
    }
   ],
   "source": [
    "%run shopping.py shopping.csv"
   ]
  },
  {
   "cell_type": "code",
   "execution_count": 90,
   "id": "extra-prisoner",
   "metadata": {},
   "outputs": [
    {
     "name": "stdout",
     "output_type": "stream",
     "text": [
      "Correct: 4062\n",
      "Incorrect: 870\n",
      "True Positive Rate: 45.52%\n",
      "True Negative Rate: 88.26%\n"
     ]
    }
   ],
   "source": [
    "%run shopping.py shopping.csv"
   ]
  },
  {
   "cell_type": "code",
   "execution_count": 91,
   "id": "cardiac-mercy",
   "metadata": {},
   "outputs": [
    {
     "name": "stdout",
     "output_type": "stream",
     "text": [
      "Correct: 4038\n",
      "Incorrect: 894\n",
      "True Positive Rate: 42.23%\n",
      "True Negative Rate: 88.44%\n"
     ]
    }
   ],
   "source": [
    "%run shopping.py shopping.csv"
   ]
  },
  {
   "cell_type": "code",
   "execution_count": null,
   "id": "starting-reply",
   "metadata": {},
   "outputs": [],
   "source": [
    "%run shopping.py shopping.csv"
   ]
  }
 ],
 "metadata": {
  "kernelspec": {
   "display_name": "Python 3",
   "language": "python",
   "name": "python3"
  },
  "language_info": {
   "codemirror_mode": {
    "name": "ipython",
    "version": 3
   },
   "file_extension": ".py",
   "mimetype": "text/x-python",
   "name": "python",
   "nbconvert_exporter": "python",
   "pygments_lexer": "ipython3",
   "version": "3.9.2"
  }
 },
 "nbformat": 4,
 "nbformat_minor": 5
}
