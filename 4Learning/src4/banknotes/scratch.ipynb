{
 "cells": [
  {
   "cell_type": "code",
   "execution_count": 3,
   "id": "behind-clause",
   "metadata": {},
   "outputs": [
    {
     "name": "stdout",
     "output_type": "stream",
     "text": [
      "C:\\Users\\wangj337\\Google Drive\\Courses\\IntroAI-CS50\\4Learning\\src4\\banknotes\n"
     ]
    }
   ],
   "source": [
    "%cd \"C:/Users/wangj337/Google Drive/Courses/IntroAI-CS50/4Learning/src4/banknotes\"\n",
    "# !jupyter nbconvert --to script \"scratch.ipynb\" --output generate"
   ]
  },
  {
   "cell_type": "code",
   "execution_count": 20,
   "id": "agreed-enough",
   "metadata": {},
   "outputs": [],
   "source": [
    "# %load banknotes0.py\n",
    "import csv\n",
    "import random\n",
    "\n",
    "from sklearn import svm\n",
    "from sklearn.linear_model import Perceptron \n",
    "# perceptron from scratch:\n",
    "# https://machinelearningmastery.com/implement-perceptron-algorithm-scratch-python/\n",
    "from sklearn.naive_bayes import GaussianNB\n",
    "# each input variable follows a gaussian distribution with mean and variance\n",
    "# taken from the training data average:\n",
    "# https://towardsdatascience.com/learning-by-implementing-gaussian-naive-bayes-3f0e3d2c01b2\n",
    "from sklearn.neighbors import KNeighborsClassifier\n",
    "# default = 5\n",
    "\n",
    "model1 = Perceptron()\n",
    "model2 = svm.SVC()\n",
    "model3 = KNeighborsClassifier(n_neighbors=1) # change n_neighbor to 1\n",
    "model4 = GaussianNB()\n",
    "\n",
    "# Read data in from file\n",
    "with open(\"banknotes.csv\") as f:\n",
    "    reader = csv.reader(f)\n",
    "    next(reader)\n",
    "\n",
    "    data = []\n",
    "    for row in reader:\n",
    "        data.append({\n",
    "            \"evidence\": [float(cell) for cell in row[:4]],\n",
    "            \"label\": \"Authentic\" if row[4] == \"0\" else \"Counterfeit\"\n",
    "        })\n",
    "\n",
    "# Separate data into training and testing groups\n",
    "holdout = int(0.40 * len(data))\n",
    "random.shuffle(data)\n",
    "testing = data[:holdout]\n",
    "training = data[holdout:]\n",
    "\n",
    "def test_model(model, testing = testing, training = training):\n",
    "    # Train model on training set\n",
    "    X_training = [row[\"evidence\"] for row in training]\n",
    "    y_training = [row[\"label\"] for row in training]\n",
    "    model.fit(X_training, y_training)\n",
    "\n",
    "    # Make predictions on the testing set\n",
    "    X_testing = [row[\"evidence\"] for row in testing]\n",
    "    y_testing = [row[\"label\"] for row in testing]\n",
    "    predictions = model.predict(X_testing)\n",
    "\n",
    "    # Compute how well we performed\n",
    "    correct = 0\n",
    "    incorrect = 0\n",
    "    total = 0\n",
    "    for actual, predicted in zip(y_testing, predictions):\n",
    "        total += 1\n",
    "        if actual == predicted:\n",
    "            correct += 1\n",
    "        else:\n",
    "            incorrect += 1\n",
    "\n",
    "    # Print results\n",
    "    print(f\"Results for model {type(model).__name__}\")\n",
    "    print(f\"Correct: {correct}\")\n",
    "    print(f\"Incorrect: {incorrect}\")\n",
    "    print(f\"Accuracy: {100 * correct / total:.2f}%\")\n"
   ]
  },
  {
   "cell_type": "code",
   "execution_count": 15,
   "id": "accomplished-zoning",
   "metadata": {},
   "outputs": [
    {
     "name": "stdout",
     "output_type": "stream",
     "text": [
      "Results for model Perceptron\n",
      "Correct: 534\n",
      "Incorrect: 14\n",
      "Accuracy: 97.45%\n",
      "Results for model SVC\n",
      "Correct: 545\n",
      "Incorrect: 3\n",
      "Accuracy: 99.45%\n",
      "Results for model KNeighborsClassifier\n",
      "Correct: 548\n",
      "Incorrect: 0\n",
      "Accuracy: 100.00%\n",
      "Results for model GaussianNB\n",
      "Correct: 470\n",
      "Incorrect: 78\n",
      "Accuracy: 85.77%\n"
     ]
    }
   ],
   "source": [
    "test_model(model1)\n",
    "test_model(model2)\n",
    "test_model(model3)\n",
    "test_model(model4)"
   ]
  },
  {
   "cell_type": "code",
   "execution_count": 17,
   "id": "ecological-nudist",
   "metadata": {},
   "outputs": [
    {
     "name": "stdout",
     "output_type": "stream",
     "text": [
      "Results for model Perceptron\n",
      "Correct: 544\n",
      "Incorrect: 4\n",
      "Accuracy: 99.27%\n",
      "Results for model SVC\n",
      "Correct: 545\n",
      "Incorrect: 3\n",
      "Accuracy: 99.45%\n",
      "Results for model KNeighborsClassifier\n",
      "Correct: 547\n",
      "Incorrect: 1\n",
      "Accuracy: 99.82%\n",
      "Results for model GaussianNB\n",
      "Correct: 474\n",
      "Incorrect: 74\n",
      "Accuracy: 86.50%\n"
     ]
    }
   ],
   "source": [
    "test_model(model1)\n",
    "test_model(model2)\n",
    "test_model(model3)\n",
    "test_model(model4)"
   ]
  },
  {
   "cell_type": "code",
   "execution_count": 19,
   "id": "improving-chancellor",
   "metadata": {},
   "outputs": [
    {
     "name": "stdout",
     "output_type": "stream",
     "text": [
      "Results for model Perceptron\n",
      "Correct: 538\n",
      "Incorrect: 10\n",
      "Accuracy: 98.18%\n",
      "Results for model SVC\n",
      "Correct: 548\n",
      "Incorrect: 0\n",
      "Accuracy: 100.00%\n",
      "Results for model KNeighborsClassifier\n",
      "Correct: 548\n",
      "Incorrect: 0\n",
      "Accuracy: 100.00%\n",
      "Results for model GaussianNB\n",
      "Correct: 463\n",
      "Incorrect: 85\n",
      "Accuracy: 84.49%\n"
     ]
    }
   ],
   "source": [
    "test_model(model1)\n",
    "test_model(model2)\n",
    "test_model(model3)\n",
    "test_model(model4)"
   ]
  },
  {
   "cell_type": "code",
   "execution_count": 21,
   "id": "informational-majority",
   "metadata": {},
   "outputs": [
    {
     "name": "stdout",
     "output_type": "stream",
     "text": [
      "Results for model Perceptron\n",
      "Correct: 512\n",
      "Incorrect: 36\n",
      "Accuracy: 93.43%\n",
      "Results for model SVC\n",
      "Correct: 547\n",
      "Incorrect: 1\n",
      "Accuracy: 99.82%\n",
      "Results for model KNeighborsClassifier\n",
      "Correct: 548\n",
      "Incorrect: 0\n",
      "Accuracy: 100.00%\n",
      "Results for model GaussianNB\n",
      "Correct: 472\n",
      "Incorrect: 76\n",
      "Accuracy: 86.13%\n"
     ]
    }
   ],
   "source": [
    "test_model(model1)\n",
    "test_model(model2)\n",
    "test_model(model3)\n",
    "test_model(model4)"
   ]
  },
  {
   "cell_type": "code",
   "execution_count": 22,
   "id": "binding-jamaica",
   "metadata": {},
   "outputs": [
    {
     "name": "stdout",
     "output_type": "stream",
     "text": [
      "Results for model Perceptron\n",
      "Correct: 545\n",
      "Incorrect: 4\n",
      "Accuracy: 99.27%\n"
     ]
    }
   ],
   "source": [
    "# %load banknotes1.py\n",
    "import csv\n",
    "import random\n",
    "\n",
    "from sklearn import svm\n",
    "from sklearn.linear_model import Perceptron\n",
    "from sklearn.model_selection import train_test_split\n",
    "from sklearn.naive_bayes import GaussianNB\n",
    "from sklearn.neighbors import KNeighborsClassifier\n",
    "\n",
    "model = Perceptron()\n",
    "# model = svm.SVC()\n",
    "# model = KNeighborsClassifier(n_neighbors=1)\n",
    "# model = GaussianNB()\n",
    "\n",
    "# Read data in from file\n",
    "with open(\"banknotes.csv\") as f:\n",
    "    reader = csv.reader(f)\n",
    "    next(reader)\n",
    "\n",
    "    data = []\n",
    "    for row in reader:\n",
    "        data.append({\n",
    "            \"evidence\": [float(cell) for cell in row[:4]],\n",
    "            \"label\": \"Authentic\" if row[4] == \"0\" else \"Counterfeit\"\n",
    "        })\n",
    "\n",
    "# Separate data into training and testing groups\n",
    "evidence = [row[\"evidence\"] for row in data]\n",
    "labels = [row[\"label\"] for row in data]\n",
    "\n",
    "X_training, X_testing, y_training, y_testing = train_test_split(\n",
    "    evidence, labels, test_size=0.4\n",
    ")\n",
    "\n",
    "# Fit model\n",
    "model.fit(X_training, y_training)\n",
    "\n",
    "# Make predictions on the testing set\n",
    "predictions = model.predict(X_testing)\n",
    "\n",
    "# Compute how well we performed\n",
    "correct = (y_testing == predictions).sum()\n",
    "incorrect = (y_testing != predictions).sum()\n",
    "total = len(predictions)\n",
    "\n",
    "# Print results\n",
    "print(f\"Results for model {type(model).__name__}\")\n",
    "print(f\"Correct: {correct}\")\n",
    "print(f\"Incorrect: {incorrect}\")\n",
    "print(f\"Accuracy: {100 * correct / total:.2f}%\")\n"
   ]
  },
  {
   "cell_type": "code",
   "execution_count": null,
   "id": "running-robertson",
   "metadata": {},
   "outputs": [],
   "source": []
  },
  {
   "cell_type": "code",
   "execution_count": null,
   "id": "traditional-latvia",
   "metadata": {},
   "outputs": [],
   "source": []
  }
 ],
 "metadata": {
  "kernelspec": {
   "display_name": "Python 3",
   "language": "python",
   "name": "python3"
  },
  "language_info": {
   "codemirror_mode": {
    "name": "ipython",
    "version": 3
   },
   "file_extension": ".py",
   "mimetype": "text/x-python",
   "name": "python",
   "nbconvert_exporter": "python",
   "pygments_lexer": "ipython3",
   "version": "3.9.2"
  }
 },
 "nbformat": 4,
 "nbformat_minor": 5
}
