{
 "cells": [
  {
   "cell_type": "code",
   "execution_count": null,
   "id": "interested-madonna",
   "metadata": {},
   "outputs": [],
   "source": [
    "##################################################################\n",
    "# Jin Wang\n",
    "# March 2, 2021\n",
    "# The following has been changed to the source code degrees.py:\n",
    "# 1) \n",
    "##################################################################\n",
    "from IPython.core.debugger import set_trace\n",
    "# %load \"C:/Users/wangj337/Google Drive/Courses/IntroToAI/0Search/tictactoe/tictactoe.py\"\n"
   ]
  },
  {
   "cell_type": "code",
   "execution_count": 4,
   "id": "fatal-poker",
   "metadata": {},
   "outputs": [
    {
     "name": "stdout",
     "output_type": "stream",
     "text": [
      "C:\\Users\\wangj337\\Google Drive\\Courses\\IntroAI-CS50\\1Knowledge\\src1\n",
      "\u001b[32mMsScarlet: YES\u001b[0m\n",
      "\u001b[32mlibrary: YES\u001b[0m\n",
      "\u001b[32mknife: YES\u001b[0m\n"
     ]
    }
   ],
   "source": [
    "%cd \"C:/Users/wangj337/Google Drive/Courses/IntroAI-CS50/1Knowledge/src1/\"\n",
    "%run clue.py"
   ]
  },
  {
   "cell_type": "code",
   "execution_count": 5,
   "id": "technological-manufacturer",
   "metadata": {},
   "outputs": [
    {
     "name": "stdout",
     "output_type": "stream",
     "text": [
      "True\n"
     ]
    }
   ],
   "source": [
    "%run harry.py"
   ]
  },
  {
   "cell_type": "code",
   "execution_count": 7,
   "id": "suburban-subcommittee",
   "metadata": {},
   "outputs": [
    {
     "name": "stdout",
     "output_type": "stream",
     "text": [
      "(GilderoyGryffindor ∨  GilderoyHufflepuff ∨  GilderoyRavenclaw ∨  GilderoySlytherin) ∧ (PomonaGryffindor ∨  PomonaHufflepuff ∨  PomonaRavenclaw ∨  PomonaSlytherin) ∧ (MinervaGryffindor ∨  MinervaHufflepuff ∨  MinervaRavenclaw ∨  MinervaSlytherin) ∧ (HoraceGryffindor ∨  HoraceHufflepuff ∨  HoraceRavenclaw ∨  HoraceSlytherin) ∧ (GilderoyGryffindor => (¬GilderoyHufflepuff)) ∧ (GilderoyGryffindor => (¬GilderoyRavenclaw)) ∧ (GilderoyGryffindor => (¬GilderoySlytherin)) ∧ (GilderoyHufflepuff => (¬GilderoyGryffindor)) ∧ (GilderoyHufflepuff => (¬GilderoyRavenclaw)) ∧ (GilderoyHufflepuff => (¬GilderoySlytherin)) ∧ (GilderoyRavenclaw => (¬GilderoyGryffindor)) ∧ (GilderoyRavenclaw => (¬GilderoyHufflepuff)) ∧ (GilderoyRavenclaw => (¬GilderoySlytherin)) ∧ (GilderoySlytherin => (¬GilderoyGryffindor)) ∧ (GilderoySlytherin => (¬GilderoyHufflepuff)) ∧ (GilderoySlytherin => (¬GilderoyRavenclaw)) ∧ (PomonaGryffindor => (¬PomonaHufflepuff)) ∧ (PomonaGryffindor => (¬PomonaRavenclaw)) ∧ (PomonaGryffindor => (¬PomonaSlytherin)) ∧ (PomonaHufflepuff => (¬PomonaGryffindor)) ∧ (PomonaHufflepuff => (¬PomonaRavenclaw)) ∧ (PomonaHufflepuff => (¬PomonaSlytherin)) ∧ (PomonaRavenclaw => (¬PomonaGryffindor)) ∧ (PomonaRavenclaw => (¬PomonaHufflepuff)) ∧ (PomonaRavenclaw => (¬PomonaSlytherin)) ∧ (PomonaSlytherin => (¬PomonaGryffindor)) ∧ (PomonaSlytherin => (¬PomonaHufflepuff)) ∧ (PomonaSlytherin => (¬PomonaRavenclaw)) ∧ (MinervaGryffindor => (¬MinervaHufflepuff)) ∧ (MinervaGryffindor => (¬MinervaRavenclaw)) ∧ (MinervaGryffindor => (¬MinervaSlytherin)) ∧ (MinervaHufflepuff => (¬MinervaGryffindor)) ∧ (MinervaHufflepuff => (¬MinervaRavenclaw)) ∧ (MinervaHufflepuff => (¬MinervaSlytherin)) ∧ (MinervaRavenclaw => (¬MinervaGryffindor)) ∧ (MinervaRavenclaw => (¬MinervaHufflepuff)) ∧ (MinervaRavenclaw => (¬MinervaSlytherin)) ∧ (MinervaSlytherin => (¬MinervaGryffindor)) ∧ (MinervaSlytherin => (¬MinervaHufflepuff)) ∧ (MinervaSlytherin => (¬MinervaRavenclaw)) ∧ (HoraceGryffindor => (¬HoraceHufflepuff)) ∧ (HoraceGryffindor => (¬HoraceRavenclaw)) ∧ (HoraceGryffindor => (¬HoraceSlytherin)) ∧ (HoraceHufflepuff => (¬HoraceGryffindor)) ∧ (HoraceHufflepuff => (¬HoraceRavenclaw)) ∧ (HoraceHufflepuff => (¬HoraceSlytherin)) ∧ (HoraceRavenclaw => (¬HoraceGryffindor)) ∧ (HoraceRavenclaw => (¬HoraceHufflepuff)) ∧ (HoraceRavenclaw => (¬HoraceSlytherin)) ∧ (HoraceSlytherin => (¬HoraceGryffindor)) ∧ (HoraceSlytherin => (¬HoraceHufflepuff)) ∧ (HoraceSlytherin => (¬HoraceRavenclaw)) ∧ (GilderoyGryffindor => (¬PomonaGryffindor)) ∧ (GilderoyGryffindor => (¬MinervaGryffindor)) ∧ (GilderoyGryffindor => (¬HoraceGryffindor)) ∧ (PomonaGryffindor => (¬GilderoyGryffindor)) ∧ (PomonaGryffindor => (¬MinervaGryffindor)) ∧ (PomonaGryffindor => (¬HoraceGryffindor)) ∧ (MinervaGryffindor => (¬GilderoyGryffindor)) ∧ (MinervaGryffindor => (¬PomonaGryffindor)) ∧ (MinervaGryffindor => (¬HoraceGryffindor)) ∧ (HoraceGryffindor => (¬GilderoyGryffindor)) ∧ (HoraceGryffindor => (¬PomonaGryffindor)) ∧ (HoraceGryffindor => (¬MinervaGryffindor)) ∧ (GilderoyHufflepuff => (¬PomonaHufflepuff)) ∧ (GilderoyHufflepuff => (¬MinervaHufflepuff)) ∧ (GilderoyHufflepuff => (¬HoraceHufflepuff)) ∧ (PomonaHufflepuff => (¬GilderoyHufflepuff)) ∧ (PomonaHufflepuff => (¬MinervaHufflepuff)) ∧ (PomonaHufflepuff => (¬HoraceHufflepuff)) ∧ (MinervaHufflepuff => (¬GilderoyHufflepuff)) ∧ (MinervaHufflepuff => (¬PomonaHufflepuff)) ∧ (MinervaHufflepuff => (¬HoraceHufflepuff)) ∧ (HoraceHufflepuff => (¬GilderoyHufflepuff)) ∧ (HoraceHufflepuff => (¬PomonaHufflepuff)) ∧ (HoraceHufflepuff => (¬MinervaHufflepuff)) ∧ (GilderoyRavenclaw => (¬PomonaRavenclaw)) ∧ (GilderoyRavenclaw => (¬MinervaRavenclaw)) ∧ (GilderoyRavenclaw => (¬HoraceRavenclaw)) ∧ (PomonaRavenclaw => (¬GilderoyRavenclaw)) ∧ (PomonaRavenclaw => (¬MinervaRavenclaw)) ∧ (PomonaRavenclaw => (¬HoraceRavenclaw)) ∧ (MinervaRavenclaw => (¬GilderoyRavenclaw)) ∧ (MinervaRavenclaw => (¬PomonaRavenclaw)) ∧ (MinervaRavenclaw => (¬HoraceRavenclaw)) ∧ (HoraceRavenclaw => (¬GilderoyRavenclaw)) ∧ (HoraceRavenclaw => (¬PomonaRavenclaw)) ∧ (HoraceRavenclaw => (¬MinervaRavenclaw)) ∧ (GilderoySlytherin => (¬PomonaSlytherin)) ∧ (GilderoySlytherin => (¬MinervaSlytherin)) ∧ (GilderoySlytherin => (¬HoraceSlytherin)) ∧ (PomonaSlytherin => (¬GilderoySlytherin)) ∧ (PomonaSlytherin => (¬MinervaSlytherin)) ∧ (PomonaSlytherin => (¬HoraceSlytherin)) ∧ (MinervaSlytherin => (¬GilderoySlytherin)) ∧ (MinervaSlytherin => (¬PomonaSlytherin)) ∧ (MinervaSlytherin => (¬HoraceSlytherin)) ∧ (HoraceSlytherin => (¬GilderoySlytherin)) ∧ (HoraceSlytherin => (¬PomonaSlytherin)) ∧ (HoraceSlytherin => (¬MinervaSlytherin)) ∧ (GilderoyGryffindor ∨  GilderoyRavenclaw) ∧ (¬PomonaSlytherin) ∧ MinervaGryffindor\n",
      "GilderoyRavenclaw\n",
      "PomonaHufflepuff\n",
      "MinervaGryffindor\n",
      "HoraceSlytherin\n"
     ]
    }
   ],
   "source": [
    "%run puzzle.py"
   ]
  },
  {
   "cell_type": "code",
   "execution_count": 8,
   "id": "regional-inspection",
   "metadata": {},
   "outputs": [
    {
     "name": "stdout",
     "output_type": "stream",
     "text": [
      "red0\n",
      "blue1\n",
      "yellow2\n",
      "green3\n"
     ]
    }
   ],
   "source": [
    "%run mastermind.py"
   ]
  },
  {
   "cell_type": "code",
   "execution_count": null,
   "id": "sudden-force",
   "metadata": {},
   "outputs": [],
   "source": []
  }
 ],
 "metadata": {
  "kernelspec": {
   "display_name": "Python 3",
   "language": "python",
   "name": "python3"
  },
  "language_info": {
   "codemirror_mode": {
    "name": "ipython",
    "version": 3
   },
   "file_extension": ".py",
   "mimetype": "text/x-python",
   "name": "python",
   "nbconvert_exporter": "python",
   "pygments_lexer": "ipython3",
   "version": "3.9.2"
  }
 },
 "nbformat": 4,
 "nbformat_minor": 5
}
